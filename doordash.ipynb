{
 "cells": [
  {
   "attachments": {},
   "cell_type": "markdown",
   "metadata": {},
   "source": [
    "# Delivery Duration Prediction  \n",
    "\n",
    "This is a machine learning project made with Doordash data. It is possible to find it at the following link.\n",
    "\n",
    "Link: https://platform.stratascratch.com/data-projects/delivery-duration-prediction"
   ]
  },
  {
   "attachments": {},
   "cell_type": "markdown",
   "metadata": {},
   "source": [
    "# Importing Libraries"
   ]
  },
  {
   "cell_type": "code",
   "execution_count": 1,
   "metadata": {},
   "outputs": [],
   "source": [
    "import pandas as pd\n",
    "import numpy as np\n",
    "import matplotlib\n",
    "import matplotlib.pyplot as plt\n",
    "import seaborn as sns\n",
    "%matplotlib inline\n",
    "\n",
    "sns.set_style(\"darkgrid\")\n",
    "matplotlib.rcParams['font.size'] = 14\n",
    "matplotlib.rcParams['figure.figsize'] = (15, 5)\n",
    "matplotlib.rcParams['figure.facecolor'] = '#00000000'\n",
    "\n",
    "import warnings\n",
    "warnings.simplefilter(action='ignore')"
   ]
  },
  {
   "attachments": {},
   "cell_type": "markdown",
   "metadata": {},
   "source": [
    "# Importing Data"
   ]
  },
  {
   "cell_type": "code",
   "execution_count": 2,
   "metadata": {},
   "outputs": [
    {
     "data": {
      "text/html": [
       "<div>\n",
       "<style scoped>\n",
       "    .dataframe tbody tr th:only-of-type {\n",
       "        vertical-align: middle;\n",
       "    }\n",
       "\n",
       "    .dataframe tbody tr th {\n",
       "        vertical-align: top;\n",
       "    }\n",
       "\n",
       "    .dataframe thead th {\n",
       "        text-align: right;\n",
       "    }\n",
       "</style>\n",
       "<table border=\"1\" class=\"dataframe\">\n",
       "  <thead>\n",
       "    <tr style=\"text-align: right;\">\n",
       "      <th></th>\n",
       "      <th>market_id</th>\n",
       "      <th>created_at</th>\n",
       "      <th>actual_delivery_time</th>\n",
       "      <th>store_id</th>\n",
       "      <th>store_primary_category</th>\n",
       "      <th>order_protocol</th>\n",
       "      <th>total_items</th>\n",
       "      <th>subtotal</th>\n",
       "      <th>num_distinct_items</th>\n",
       "      <th>min_item_price</th>\n",
       "      <th>max_item_price</th>\n",
       "      <th>total_onshift_dashers</th>\n",
       "      <th>total_busy_dashers</th>\n",
       "      <th>total_outstanding_orders</th>\n",
       "      <th>estimated_order_place_duration</th>\n",
       "      <th>estimated_store_to_consumer_driving_duration</th>\n",
       "    </tr>\n",
       "  </thead>\n",
       "  <tbody>\n",
       "    <tr>\n",
       "      <th>0</th>\n",
       "      <td>1.0</td>\n",
       "      <td>2015-02-06 22:24:17</td>\n",
       "      <td>2015-02-06 23:27:16</td>\n",
       "      <td>1845</td>\n",
       "      <td>american</td>\n",
       "      <td>1.0</td>\n",
       "      <td>4</td>\n",
       "      <td>3441</td>\n",
       "      <td>4</td>\n",
       "      <td>557</td>\n",
       "      <td>1239</td>\n",
       "      <td>33.0</td>\n",
       "      <td>14.0</td>\n",
       "      <td>21.0</td>\n",
       "      <td>446</td>\n",
       "      <td>861.0</td>\n",
       "    </tr>\n",
       "    <tr>\n",
       "      <th>1</th>\n",
       "      <td>2.0</td>\n",
       "      <td>2015-02-10 21:49:25</td>\n",
       "      <td>2015-02-10 22:56:29</td>\n",
       "      <td>5477</td>\n",
       "      <td>mexican</td>\n",
       "      <td>2.0</td>\n",
       "      <td>1</td>\n",
       "      <td>1900</td>\n",
       "      <td>1</td>\n",
       "      <td>1400</td>\n",
       "      <td>1400</td>\n",
       "      <td>1.0</td>\n",
       "      <td>2.0</td>\n",
       "      <td>2.0</td>\n",
       "      <td>446</td>\n",
       "      <td>690.0</td>\n",
       "    </tr>\n",
       "    <tr>\n",
       "      <th>2</th>\n",
       "      <td>3.0</td>\n",
       "      <td>2015-01-22 20:39:28</td>\n",
       "      <td>2015-01-22 21:09:09</td>\n",
       "      <td>5477</td>\n",
       "      <td>NaN</td>\n",
       "      <td>1.0</td>\n",
       "      <td>1</td>\n",
       "      <td>1900</td>\n",
       "      <td>1</td>\n",
       "      <td>1900</td>\n",
       "      <td>1900</td>\n",
       "      <td>1.0</td>\n",
       "      <td>0.0</td>\n",
       "      <td>0.0</td>\n",
       "      <td>446</td>\n",
       "      <td>690.0</td>\n",
       "    </tr>\n",
       "    <tr>\n",
       "      <th>3</th>\n",
       "      <td>3.0</td>\n",
       "      <td>2015-02-03 21:21:45</td>\n",
       "      <td>2015-02-03 22:13:00</td>\n",
       "      <td>5477</td>\n",
       "      <td>NaN</td>\n",
       "      <td>1.0</td>\n",
       "      <td>6</td>\n",
       "      <td>6900</td>\n",
       "      <td>5</td>\n",
       "      <td>600</td>\n",
       "      <td>1800</td>\n",
       "      <td>1.0</td>\n",
       "      <td>1.0</td>\n",
       "      <td>2.0</td>\n",
       "      <td>446</td>\n",
       "      <td>289.0</td>\n",
       "    </tr>\n",
       "    <tr>\n",
       "      <th>4</th>\n",
       "      <td>3.0</td>\n",
       "      <td>2015-02-15 02:40:36</td>\n",
       "      <td>2015-02-15 03:20:26</td>\n",
       "      <td>5477</td>\n",
       "      <td>NaN</td>\n",
       "      <td>1.0</td>\n",
       "      <td>3</td>\n",
       "      <td>3900</td>\n",
       "      <td>3</td>\n",
       "      <td>1100</td>\n",
       "      <td>1600</td>\n",
       "      <td>6.0</td>\n",
       "      <td>6.0</td>\n",
       "      <td>9.0</td>\n",
       "      <td>446</td>\n",
       "      <td>650.0</td>\n",
       "    </tr>\n",
       "    <tr>\n",
       "      <th>...</th>\n",
       "      <td>...</td>\n",
       "      <td>...</td>\n",
       "      <td>...</td>\n",
       "      <td>...</td>\n",
       "      <td>...</td>\n",
       "      <td>...</td>\n",
       "      <td>...</td>\n",
       "      <td>...</td>\n",
       "      <td>...</td>\n",
       "      <td>...</td>\n",
       "      <td>...</td>\n",
       "      <td>...</td>\n",
       "      <td>...</td>\n",
       "      <td>...</td>\n",
       "      <td>...</td>\n",
       "      <td>...</td>\n",
       "    </tr>\n",
       "    <tr>\n",
       "      <th>197423</th>\n",
       "      <td>1.0</td>\n",
       "      <td>2015-02-17 00:19:41</td>\n",
       "      <td>2015-02-17 01:24:48</td>\n",
       "      <td>2956</td>\n",
       "      <td>fast</td>\n",
       "      <td>4.0</td>\n",
       "      <td>3</td>\n",
       "      <td>1389</td>\n",
       "      <td>3</td>\n",
       "      <td>345</td>\n",
       "      <td>649</td>\n",
       "      <td>17.0</td>\n",
       "      <td>17.0</td>\n",
       "      <td>23.0</td>\n",
       "      <td>251</td>\n",
       "      <td>331.0</td>\n",
       "    </tr>\n",
       "    <tr>\n",
       "      <th>197424</th>\n",
       "      <td>1.0</td>\n",
       "      <td>2015-02-13 00:01:59</td>\n",
       "      <td>2015-02-13 00:58:22</td>\n",
       "      <td>2956</td>\n",
       "      <td>fast</td>\n",
       "      <td>4.0</td>\n",
       "      <td>6</td>\n",
       "      <td>3010</td>\n",
       "      <td>4</td>\n",
       "      <td>405</td>\n",
       "      <td>825</td>\n",
       "      <td>12.0</td>\n",
       "      <td>11.0</td>\n",
       "      <td>14.0</td>\n",
       "      <td>251</td>\n",
       "      <td>915.0</td>\n",
       "    </tr>\n",
       "    <tr>\n",
       "      <th>197425</th>\n",
       "      <td>1.0</td>\n",
       "      <td>2015-01-24 04:46:08</td>\n",
       "      <td>2015-01-24 05:36:16</td>\n",
       "      <td>2956</td>\n",
       "      <td>fast</td>\n",
       "      <td>4.0</td>\n",
       "      <td>5</td>\n",
       "      <td>1836</td>\n",
       "      <td>3</td>\n",
       "      <td>300</td>\n",
       "      <td>399</td>\n",
       "      <td>39.0</td>\n",
       "      <td>41.0</td>\n",
       "      <td>40.0</td>\n",
       "      <td>251</td>\n",
       "      <td>795.0</td>\n",
       "    </tr>\n",
       "    <tr>\n",
       "      <th>197426</th>\n",
       "      <td>1.0</td>\n",
       "      <td>2015-02-01 18:18:15</td>\n",
       "      <td>2015-02-01 19:23:22</td>\n",
       "      <td>3630</td>\n",
       "      <td>sandwich</td>\n",
       "      <td>1.0</td>\n",
       "      <td>1</td>\n",
       "      <td>1175</td>\n",
       "      <td>1</td>\n",
       "      <td>535</td>\n",
       "      <td>535</td>\n",
       "      <td>7.0</td>\n",
       "      <td>7.0</td>\n",
       "      <td>12.0</td>\n",
       "      <td>446</td>\n",
       "      <td>384.0</td>\n",
       "    </tr>\n",
       "    <tr>\n",
       "      <th>197427</th>\n",
       "      <td>1.0</td>\n",
       "      <td>2015-02-08 19:24:33</td>\n",
       "      <td>2015-02-08 20:01:41</td>\n",
       "      <td>3630</td>\n",
       "      <td>sandwich</td>\n",
       "      <td>1.0</td>\n",
       "      <td>4</td>\n",
       "      <td>2605</td>\n",
       "      <td>4</td>\n",
       "      <td>425</td>\n",
       "      <td>750</td>\n",
       "      <td>20.0</td>\n",
       "      <td>20.0</td>\n",
       "      <td>23.0</td>\n",
       "      <td>446</td>\n",
       "      <td>134.0</td>\n",
       "    </tr>\n",
       "  </tbody>\n",
       "</table>\n",
       "<p>197428 rows × 16 columns</p>\n",
       "</div>"
      ],
      "text/plain": [
       "        market_id          created_at actual_delivery_time  store_id  \\\n",
       "0             1.0 2015-02-06 22:24:17  2015-02-06 23:27:16      1845   \n",
       "1             2.0 2015-02-10 21:49:25  2015-02-10 22:56:29      5477   \n",
       "2             3.0 2015-01-22 20:39:28  2015-01-22 21:09:09      5477   \n",
       "3             3.0 2015-02-03 21:21:45  2015-02-03 22:13:00      5477   \n",
       "4             3.0 2015-02-15 02:40:36  2015-02-15 03:20:26      5477   \n",
       "...           ...                 ...                  ...       ...   \n",
       "197423        1.0 2015-02-17 00:19:41  2015-02-17 01:24:48      2956   \n",
       "197424        1.0 2015-02-13 00:01:59  2015-02-13 00:58:22      2956   \n",
       "197425        1.0 2015-01-24 04:46:08  2015-01-24 05:36:16      2956   \n",
       "197426        1.0 2015-02-01 18:18:15  2015-02-01 19:23:22      3630   \n",
       "197427        1.0 2015-02-08 19:24:33  2015-02-08 20:01:41      3630   \n",
       "\n",
       "       store_primary_category  order_protocol  total_items  subtotal  \\\n",
       "0                    american             1.0            4      3441   \n",
       "1                     mexican             2.0            1      1900   \n",
       "2                         NaN             1.0            1      1900   \n",
       "3                         NaN             1.0            6      6900   \n",
       "4                         NaN             1.0            3      3900   \n",
       "...                       ...             ...          ...       ...   \n",
       "197423                   fast             4.0            3      1389   \n",
       "197424                   fast             4.0            6      3010   \n",
       "197425                   fast             4.0            5      1836   \n",
       "197426               sandwich             1.0            1      1175   \n",
       "197427               sandwich             1.0            4      2605   \n",
       "\n",
       "        num_distinct_items  min_item_price  max_item_price  \\\n",
       "0                        4             557            1239   \n",
       "1                        1            1400            1400   \n",
       "2                        1            1900            1900   \n",
       "3                        5             600            1800   \n",
       "4                        3            1100            1600   \n",
       "...                    ...             ...             ...   \n",
       "197423                   3             345             649   \n",
       "197424                   4             405             825   \n",
       "197425                   3             300             399   \n",
       "197426                   1             535             535   \n",
       "197427                   4             425             750   \n",
       "\n",
       "        total_onshift_dashers  total_busy_dashers  total_outstanding_orders  \\\n",
       "0                        33.0                14.0                      21.0   \n",
       "1                         1.0                 2.0                       2.0   \n",
       "2                         1.0                 0.0                       0.0   \n",
       "3                         1.0                 1.0                       2.0   \n",
       "4                         6.0                 6.0                       9.0   \n",
       "...                       ...                 ...                       ...   \n",
       "197423                   17.0                17.0                      23.0   \n",
       "197424                   12.0                11.0                      14.0   \n",
       "197425                   39.0                41.0                      40.0   \n",
       "197426                    7.0                 7.0                      12.0   \n",
       "197427                   20.0                20.0                      23.0   \n",
       "\n",
       "        estimated_order_place_duration  \\\n",
       "0                                  446   \n",
       "1                                  446   \n",
       "2                                  446   \n",
       "3                                  446   \n",
       "4                                  446   \n",
       "...                                ...   \n",
       "197423                             251   \n",
       "197424                             251   \n",
       "197425                             251   \n",
       "197426                             446   \n",
       "197427                             446   \n",
       "\n",
       "        estimated_store_to_consumer_driving_duration  \n",
       "0                                              861.0  \n",
       "1                                              690.0  \n",
       "2                                              690.0  \n",
       "3                                              289.0  \n",
       "4                                              650.0  \n",
       "...                                              ...  \n",
       "197423                                         331.0  \n",
       "197424                                         915.0  \n",
       "197425                                         795.0  \n",
       "197426                                         384.0  \n",
       "197427                                         134.0  \n",
       "\n",
       "[197428 rows x 16 columns]"
      ]
     },
     "execution_count": 2,
     "metadata": {},
     "output_type": "execute_result"
    }
   ],
   "source": [
    "dd = pd.read_csv('./datasets/datasets/historical_data.csv', parse_dates=['created_at', 'actual_delivery_time'])\n",
    "dd"
   ]
  },
  {
   "attachments": {},
   "cell_type": "markdown",
   "metadata": {},
   "source": [
    "# EDA and Feature Engineering"
   ]
  },
  {
   "cell_type": "code",
   "execution_count": 3,
   "metadata": {},
   "outputs": [
    {
     "name": "stdout",
     "output_type": "stream",
     "text": [
      "<class 'pandas.core.frame.DataFrame'>\n",
      "RangeIndex: 197428 entries, 0 to 197427\n",
      "Data columns (total 16 columns):\n",
      " #   Column                                        Non-Null Count   Dtype         \n",
      "---  ------                                        --------------   -----         \n",
      " 0   market_id                                     196441 non-null  float64       \n",
      " 1   created_at                                    197428 non-null  datetime64[ns]\n",
      " 2   actual_delivery_time                          197421 non-null  datetime64[ns]\n",
      " 3   store_id                                      197428 non-null  int64         \n",
      " 4   store_primary_category                        192668 non-null  object        \n",
      " 5   order_protocol                                196433 non-null  float64       \n",
      " 6   total_items                                   197428 non-null  int64         \n",
      " 7   subtotal                                      197428 non-null  int64         \n",
      " 8   num_distinct_items                            197428 non-null  int64         \n",
      " 9   min_item_price                                197428 non-null  int64         \n",
      " 10  max_item_price                                197428 non-null  int64         \n",
      " 11  total_onshift_dashers                         181166 non-null  float64       \n",
      " 12  total_busy_dashers                            181166 non-null  float64       \n",
      " 13  total_outstanding_orders                      181166 non-null  float64       \n",
      " 14  estimated_order_place_duration                197428 non-null  int64         \n",
      " 15  estimated_store_to_consumer_driving_duration  196902 non-null  float64       \n",
      "dtypes: datetime64[ns](2), float64(6), int64(7), object(1)\n",
      "memory usage: 24.1+ MB\n"
     ]
    }
   ],
   "source": [
    "dd.info()"
   ]
  },
  {
   "cell_type": "code",
   "execution_count": 4,
   "metadata": {},
   "outputs": [
    {
     "data": {
      "text/plain": [
       "market_id                                         987\n",
       "created_at                                          0\n",
       "actual_delivery_time                                7\n",
       "store_id                                            0\n",
       "store_primary_category                           4760\n",
       "order_protocol                                    995\n",
       "total_items                                         0\n",
       "subtotal                                            0\n",
       "num_distinct_items                                  0\n",
       "min_item_price                                      0\n",
       "max_item_price                                      0\n",
       "total_onshift_dashers                           16262\n",
       "total_busy_dashers                              16262\n",
       "total_outstanding_orders                        16262\n",
       "estimated_order_place_duration                      0\n",
       "estimated_store_to_consumer_driving_duration      526\n",
       "dtype: int64"
      ]
     },
     "execution_count": 4,
     "metadata": {},
     "output_type": "execute_result"
    }
   ],
   "source": [
    "dd.isna().sum()"
   ]
  },
  {
   "attachments": {},
   "cell_type": "markdown",
   "metadata": {},
   "source": [
    "Visualizing missing data."
   ]
  },
  {
   "cell_type": "code",
   "execution_count": 5,
   "metadata": {},
   "outputs": [
    {
     "data": {
      "image/png": "[encoded data removed]",
      "text/plain": [
       "<Figure size 2160x360 with 2 Axes>"
      ]
     },
     "metadata": {
      "needs_background": "light"
     },
     "output_type": "display_data"
    }
   ],
   "source": [
    "plt.figure(figsize=(30,5))\n",
    "sns.heatmap(dd.isna())\n",
    "plt.xticks(rotation=90);"
   ]
  },
  {
   "attachments": {},
   "cell_type": "markdown",
   "metadata": {},
   "source": [
    "Since there are only seven missing values for one of the feature that will compose the target, it is possible to drop them."
   ]
  },
  {
   "cell_type": "code",
   "execution_count": 6,
   "metadata": {},
   "outputs": [],
   "source": [
    "obs_to_remove = dd[dd.actual_delivery_time.isna()].index\n",
    "dd.drop(index=obs_to_remove, inplace=True)"
   ]
  },
  {
   "cell_type": "code",
   "execution_count": 7,
   "metadata": {},
   "outputs": [
    {
     "data": {
      "text/plain": [
       "0"
      ]
     },
     "execution_count": 7,
     "metadata": {},
     "output_type": "execute_result"
    }
   ],
   "source": [
    "dd.actual_delivery_time.isna().sum()"
   ]
  },
  {
   "attachments": {},
   "cell_type": "markdown",
   "metadata": {},
   "source": [
    "## Creating the target column."
   ]
  },
  {
   "cell_type": "code",
   "execution_count": 8,
   "metadata": {},
   "outputs": [
    {
     "data": {
      "text/plain": [
       "0         3779\n",
       "1         4024\n",
       "2         1781\n",
       "3         3075\n",
       "4         2390\n",
       "          ... \n",
       "197423    3907\n",
       "197424    3383\n",
       "197425    3008\n",
       "197426    3907\n",
       "197427    2228\n",
       "Name: Target, Length: 197421, dtype: int64"
      ]
     },
     "execution_count": 8,
     "metadata": {},
     "output_type": "execute_result"
    }
   ],
   "source": [
    "dd['Target'] = (dd.actual_delivery_time - dd.created_at).dt.seconds\n",
    "dd.Target"
   ]
  },
  {
   "attachments": {},
   "cell_type": "markdown",
   "metadata": {},
   "source": [
    "## Replacing Missing Values"
   ]
  },
  {
   "attachments": {},
   "cell_type": "markdown",
   "metadata": {},
   "source": [
    "Columns with missing values:  \n",
    "\n",
    "- market_id  \n",
    "- store_primary_category  \n",
    "- order protocol  \n",
    "- total_onshift_dashers                           \n",
    "- total_busy_dashers                              \n",
    "- total_outstanding_orders  \n",
    "- estimated_store_to_consumer_driving_duration                    "
   ]
  },
  {
   "attachments": {},
   "cell_type": "markdown",
   "metadata": {},
   "source": [
    "### Market ID"
   ]
  },
  {
   "cell_type": "code",
   "execution_count": 9,
   "metadata": {},
   "outputs": [
    {
     "data": {
      "text/plain": [
       "2.0    55055\n",
       "4.0    47597\n",
       "1.0    38037\n",
       "3.0    23296\n",
       "5.0    17999\n",
       "6.0    14450\n",
       "Name: market_id, dtype: int64"
      ]
     },
     "execution_count": 9,
     "metadata": {},
     "output_type": "execute_result"
    }
   ],
   "source": [
    "dd.market_id.value_counts()"
   ]
  },
  {
   "attachments": {},
   "cell_type": "markdown",
   "metadata": {},
   "source": [
    "ID 2.0 seems to be the most popular one, since there are not many information regarding the geographical position a possible solution is to replace the null values with 2.0"
   ]
  },
  {
   "cell_type": "code",
   "execution_count": 10,
   "metadata": {},
   "outputs": [
    {
     "name": "stdout",
     "output_type": "stream",
     "text": [
      "Null values: 0\n"
     ]
    },
    {
     "data": {
      "text/plain": [
       "2.0    56042\n",
       "4.0    47597\n",
       "1.0    38037\n",
       "3.0    23296\n",
       "5.0    17999\n",
       "6.0    14450\n",
       "Name: market_id, dtype: int64"
      ]
     },
     "execution_count": 10,
     "metadata": {},
     "output_type": "execute_result"
    }
   ],
   "source": [
    "dd.market_id.fillna(2.0, inplace=True)\n",
    "print('Null values: {}'.format(dd.market_id.isna().sum()))\n",
    "dd.market_id.value_counts()"
   ]
  },
  {
   "attachments": {},
   "cell_type": "markdown",
   "metadata": {},
   "source": [
    "### Store primary category"
   ]
  },
  {
   "cell_type": "code",
   "execution_count": 11,
   "metadata": {},
   "outputs": [
    {
     "data": {
      "text/plain": [
       "4760"
      ]
     },
     "execution_count": 11,
     "metadata": {},
     "output_type": "execute_result"
    }
   ],
   "source": [
    "dd.store_primary_category.isna().sum()"
   ]
  },
  {
   "attachments": {},
   "cell_type": "markdown",
   "metadata": {},
   "source": [
    "The missing values in the store primary category can be replaced by using the store_id feature."
   ]
  },
  {
   "cell_type": "code",
   "execution_count": 12,
   "metadata": {},
   "outputs": [],
   "source": [
    "unique_id = dd.store_id.unique().tolist()\n",
    "new_df = pd.DataFrame()\n",
    "\n",
    "for x in unique_id:\n",
    "    try:\n",
    "        pop = dd[dd.store_id == x]['store_primary_category'].mode()[0]\n",
    "        store_df = dd[dd.store_id == x]['store_primary_category'].fillna(pop)\n",
    "        new_df = pd.concat([new_df, store_df])\n",
    "    except:\n",
    "        df_to_concat = dd[dd.store_id == x]['store_primary_category']\n",
    "        new_df = pd.concat([new_df, df_to_concat])"
   ]
  },
  {
   "cell_type": "code",
   "execution_count": 13,
   "metadata": {},
   "outputs": [
    {
     "data": {
      "text/html": [
       "<div>\n",
       "<style scoped>\n",
       "    .dataframe tbody tr th:only-of-type {\n",
       "        vertical-align: middle;\n",
       "    }\n",
       "\n",
       "    .dataframe tbody tr th {\n",
       "        vertical-align: top;\n",
       "    }\n",
       "\n",
       "    .dataframe thead th {\n",
       "        text-align: right;\n",
       "    }\n",
       "</style>\n",
       "<table border=\"1\" class=\"dataframe\">\n",
       "  <thead>\n",
       "    <tr style=\"text-align: right;\">\n",
       "      <th></th>\n",
       "      <th>0</th>\n",
       "    </tr>\n",
       "  </thead>\n",
       "  <tbody>\n",
       "    <tr>\n",
       "      <th>0</th>\n",
       "      <td>american</td>\n",
       "    </tr>\n",
       "    <tr>\n",
       "      <th>1</th>\n",
       "      <td>mexican</td>\n",
       "    </tr>\n",
       "    <tr>\n",
       "      <th>2</th>\n",
       "      <td>indian</td>\n",
       "    </tr>\n",
       "    <tr>\n",
       "      <th>3</th>\n",
       "      <td>indian</td>\n",
       "    </tr>\n",
       "    <tr>\n",
       "      <th>4</th>\n",
       "      <td>indian</td>\n",
       "    </tr>\n",
       "    <tr>\n",
       "      <th>...</th>\n",
       "      <td>...</td>\n",
       "    </tr>\n",
       "    <tr>\n",
       "      <th>197423</th>\n",
       "      <td>fast</td>\n",
       "    </tr>\n",
       "    <tr>\n",
       "      <th>197424</th>\n",
       "      <td>fast</td>\n",
       "    </tr>\n",
       "    <tr>\n",
       "      <th>197425</th>\n",
       "      <td>fast</td>\n",
       "    </tr>\n",
       "    <tr>\n",
       "      <th>197426</th>\n",
       "      <td>sandwich</td>\n",
       "    </tr>\n",
       "    <tr>\n",
       "      <th>197427</th>\n",
       "      <td>sandwich</td>\n",
       "    </tr>\n",
       "  </tbody>\n",
       "</table>\n",
       "<p>197421 rows × 1 columns</p>\n",
       "</div>"
      ],
      "text/plain": [
       "               0\n",
       "0       american\n",
       "1        mexican\n",
       "2         indian\n",
       "3         indian\n",
       "4         indian\n",
       "...          ...\n",
       "197423      fast\n",
       "197424      fast\n",
       "197425      fast\n",
       "197426  sandwich\n",
       "197427  sandwich\n",
       "\n",
       "[197421 rows x 1 columns]"
      ]
     },
     "execution_count": 13,
     "metadata": {},
     "output_type": "execute_result"
    }
   ],
   "source": [
    "new_df"
   ]
  },
  {
   "cell_type": "code",
   "execution_count": 14,
   "metadata": {},
   "outputs": [
    {
     "data": {
      "text/plain": [
       "867"
      ]
     },
     "execution_count": 14,
     "metadata": {},
     "output_type": "execute_result"
    }
   ],
   "source": [
    "new_df[0].isna().sum()"
   ]
  },
  {
   "cell_type": "code",
   "execution_count": 15,
   "metadata": {},
   "outputs": [
    {
     "data": {
      "text/html": [
       "<div>\n",
       "<style scoped>\n",
       "    .dataframe tbody tr th:only-of-type {\n",
       "        vertical-align: middle;\n",
       "    }\n",
       "\n",
       "    .dataframe tbody tr th {\n",
       "        vertical-align: top;\n",
       "    }\n",
       "\n",
       "    .dataframe thead th {\n",
       "        text-align: right;\n",
       "    }\n",
       "</style>\n",
       "<table border=\"1\" class=\"dataframe\">\n",
       "  <thead>\n",
       "    <tr style=\"text-align: right;\">\n",
       "      <th></th>\n",
       "      <th>market_id</th>\n",
       "      <th>created_at</th>\n",
       "      <th>actual_delivery_time</th>\n",
       "      <th>store_id</th>\n",
       "      <th>store_primary_category</th>\n",
       "      <th>order_protocol</th>\n",
       "      <th>total_items</th>\n",
       "      <th>subtotal</th>\n",
       "      <th>num_distinct_items</th>\n",
       "      <th>min_item_price</th>\n",
       "      <th>max_item_price</th>\n",
       "      <th>total_onshift_dashers</th>\n",
       "      <th>total_busy_dashers</th>\n",
       "      <th>total_outstanding_orders</th>\n",
       "      <th>estimated_order_place_duration</th>\n",
       "      <th>estimated_store_to_consumer_driving_duration</th>\n",
       "      <th>Target</th>\n",
       "    </tr>\n",
       "  </thead>\n",
       "  <tbody>\n",
       "    <tr>\n",
       "      <th>0</th>\n",
       "      <td>1.0</td>\n",
       "      <td>2015-02-06 22:24:17</td>\n",
       "      <td>2015-02-06 23:27:16</td>\n",
       "      <td>1845</td>\n",
       "      <td>american</td>\n",
       "      <td>1.0</td>\n",
       "      <td>4</td>\n",
       "      <td>3441</td>\n",
       "      <td>4</td>\n",
       "      <td>557</td>\n",
       "      <td>1239</td>\n",
       "      <td>33.0</td>\n",
       "      <td>14.0</td>\n",
       "      <td>21.0</td>\n",
       "      <td>446</td>\n",
       "      <td>861.0</td>\n",
       "      <td>3779</td>\n",
       "    </tr>\n",
       "    <tr>\n",
       "      <th>1</th>\n",
       "      <td>2.0</td>\n",
       "      <td>2015-02-10 21:49:25</td>\n",
       "      <td>2015-02-10 22:56:29</td>\n",
       "      <td>5477</td>\n",
       "      <td>mexican</td>\n",
       "      <td>2.0</td>\n",
       "      <td>1</td>\n",
       "      <td>1900</td>\n",
       "      <td>1</td>\n",
       "      <td>1400</td>\n",
       "      <td>1400</td>\n",
       "      <td>1.0</td>\n",
       "      <td>2.0</td>\n",
       "      <td>2.0</td>\n",
       "      <td>446</td>\n",
       "      <td>690.0</td>\n",
       "      <td>4024</td>\n",
       "    </tr>\n",
       "    <tr>\n",
       "      <th>2</th>\n",
       "      <td>3.0</td>\n",
       "      <td>2015-01-22 20:39:28</td>\n",
       "      <td>2015-01-22 21:09:09</td>\n",
       "      <td>5477</td>\n",
       "      <td>indian</td>\n",
       "      <td>1.0</td>\n",
       "      <td>1</td>\n",
       "      <td>1900</td>\n",
       "      <td>1</td>\n",
       "      <td>1900</td>\n",
       "      <td>1900</td>\n",
       "      <td>1.0</td>\n",
       "      <td>0.0</td>\n",
       "      <td>0.0</td>\n",
       "      <td>446</td>\n",
       "      <td>690.0</td>\n",
       "      <td>1781</td>\n",
       "    </tr>\n",
       "    <tr>\n",
       "      <th>3</th>\n",
       "      <td>3.0</td>\n",
       "      <td>2015-02-03 21:21:45</td>\n",
       "      <td>2015-02-03 22:13:00</td>\n",
       "      <td>5477</td>\n",
       "      <td>indian</td>\n",
       "      <td>1.0</td>\n",
       "      <td>6</td>\n",
       "      <td>6900</td>\n",
       "      <td>5</td>\n",
       "      <td>600</td>\n",
       "      <td>1800</td>\n",
       "      <td>1.0</td>\n",
       "      <td>1.0</td>\n",
       "      <td>2.0</td>\n",
       "      <td>446</td>\n",
       "      <td>289.0</td>\n",
       "      <td>3075</td>\n",
       "    </tr>\n",
       "    <tr>\n",
       "      <th>4</th>\n",
       "      <td>3.0</td>\n",
       "      <td>2015-02-15 02:40:36</td>\n",
       "      <td>2015-02-15 03:20:26</td>\n",
       "      <td>5477</td>\n",
       "      <td>indian</td>\n",
       "      <td>1.0</td>\n",
       "      <td>3</td>\n",
       "      <td>3900</td>\n",
       "      <td>3</td>\n",
       "      <td>1100</td>\n",
       "      <td>1600</td>\n",
       "      <td>6.0</td>\n",
       "      <td>6.0</td>\n",
       "      <td>9.0</td>\n",
       "      <td>446</td>\n",
       "      <td>650.0</td>\n",
       "      <td>2390</td>\n",
       "    </tr>\n",
       "  </tbody>\n",
       "</table>\n",
       "</div>"
      ],
      "text/plain": [
       "   market_id          created_at actual_delivery_time  store_id  \\\n",
       "0        1.0 2015-02-06 22:24:17  2015-02-06 23:27:16      1845   \n",
       "1        2.0 2015-02-10 21:49:25  2015-02-10 22:56:29      5477   \n",
       "2        3.0 2015-01-22 20:39:28  2015-01-22 21:09:09      5477   \n",
       "3        3.0 2015-02-03 21:21:45  2015-02-03 22:13:00      5477   \n",
       "4        3.0 2015-02-15 02:40:36  2015-02-15 03:20:26      5477   \n",
       "\n",
       "  store_primary_category  order_protocol  total_items  subtotal  \\\n",
       "0               american             1.0            4      3441   \n",
       "1                mexican             2.0            1      1900   \n",
       "2                 indian             1.0            1      1900   \n",
       "3                 indian             1.0            6      6900   \n",
       "4                 indian             1.0            3      3900   \n",
       "\n",
       "   num_distinct_items  min_item_price  max_item_price  total_onshift_dashers  \\\n",
       "0                   4             557            1239                   33.0   \n",
       "1                   1            1400            1400                    1.0   \n",
       "2                   1            1900            1900                    1.0   \n",
       "3                   5             600            1800                    1.0   \n",
       "4                   3            1100            1600                    6.0   \n",
       "\n",
       "   total_busy_dashers  total_outstanding_orders  \\\n",
       "0                14.0                      21.0   \n",
       "1                 2.0                       2.0   \n",
       "2                 0.0                       0.0   \n",
       "3                 1.0                       2.0   \n",
       "4                 6.0                       9.0   \n",
       "\n",
       "   estimated_order_place_duration  \\\n",
       "0                             446   \n",
       "1                             446   \n",
       "2                             446   \n",
       "3                             446   \n",
       "4                             446   \n",
       "\n",
       "   estimated_store_to_consumer_driving_duration  Target  \n",
       "0                                         861.0    3779  \n",
       "1                                         690.0    4024  \n",
       "2                                         690.0    1781  \n",
       "3                                         289.0    3075  \n",
       "4                                         650.0    2390  "
      ]
     },
     "execution_count": 15,
     "metadata": {},
     "output_type": "execute_result"
    }
   ],
   "source": [
    "dd['store_primary_category'] = new_df[0]\n",
    "dd.head()"
   ]
  },
  {
   "attachments": {},
   "cell_type": "markdown",
   "metadata": {},
   "source": [
    "The number of missing values dropped from 4760 to 867, in order to replace the remaining ones it could be adopted the same process but using the location feature."
   ]
  },
  {
   "cell_type": "code",
   "execution_count": 16,
   "metadata": {},
   "outputs": [],
   "source": [
    "market_dict = {}"
   ]
  },
  {
   "cell_type": "code",
   "execution_count": 17,
   "metadata": {},
   "outputs": [],
   "source": [
    "def market_sub(id):\n",
    "    popular = dd[dd.market_id == id]['store_primary_category'].mode()[0]\n",
    "    market_dict[id] = popular "
   ]
  },
  {
   "cell_type": "code",
   "execution_count": 18,
   "metadata": {},
   "outputs": [],
   "source": [
    "market_id_unique = dd.market_id.unique().tolist()"
   ]
  },
  {
   "cell_type": "code",
   "execution_count": 19,
   "metadata": {},
   "outputs": [
    {
     "data": {
      "text/plain": [
       "{1.0: 'american',\n",
       " 2.0: 'mexican',\n",
       " 3.0: 'american',\n",
       " 4.0: 'pizza',\n",
       " 5.0: 'american',\n",
       " 6.0: 'pizza'}"
      ]
     },
     "execution_count": 19,
     "metadata": {},
     "output_type": "execute_result"
    }
   ],
   "source": [
    "[market_sub(id) for id in market_id_unique]\n",
    "market_dict"
   ]
  },
  {
   "cell_type": "code",
   "execution_count": 20,
   "metadata": {},
   "outputs": [],
   "source": [
    "# Creating a dataframe with the null values\n",
    "null_primary_df = dd[dd.store_primary_category.isna()]\n",
    "\n",
    "# Replacing them\n",
    "null_primary_df['store_primary_category'] = null_primary_df.market_id.map(market_dict)"
   ]
  },
  {
   "cell_type": "code",
   "execution_count": 21,
   "metadata": {},
   "outputs": [],
   "source": [
    "# Dropping null indexes\n",
    "null_indexes = null_primary_df.index \n",
    "dd.drop(index=null_indexes, inplace=True)\n",
    "\n",
    "# Concatenating \n",
    "dd = pd.concat([dd, null_primary_df])"
   ]
  },
  {
   "cell_type": "code",
   "execution_count": 22,
   "metadata": {},
   "outputs": [
    {
     "data": {
      "text/plain": [
       "0"
      ]
     },
     "execution_count": 22,
     "metadata": {},
     "output_type": "execute_result"
    }
   ],
   "source": [
    "dd.store_primary_category.isna().sum()"
   ]
  },
  {
   "attachments": {},
   "cell_type": "markdown",
   "metadata": {},
   "source": [
    "All the null values have been replaced.  \n",
    "\n",
    "Let's see what are the remaining ones."
   ]
  },
  {
   "cell_type": "code",
   "execution_count": 23,
   "metadata": {},
   "outputs": [
    {
     "data": {
      "text/plain": [
       "market_id                                           0\n",
       "created_at                                          0\n",
       "actual_delivery_time                                0\n",
       "store_id                                            0\n",
       "store_primary_category                              0\n",
       "order_protocol                                    995\n",
       "total_items                                         0\n",
       "subtotal                                            0\n",
       "num_distinct_items                                  0\n",
       "min_item_price                                      0\n",
       "max_item_price                                      0\n",
       "total_onshift_dashers                           16262\n",
       "total_busy_dashers                              16262\n",
       "total_outstanding_orders                        16262\n",
       "estimated_order_place_duration                      0\n",
       "estimated_store_to_consumer_driving_duration      526\n",
       "Target                                              0\n",
       "dtype: int64"
      ]
     },
     "execution_count": 23,
     "metadata": {},
     "output_type": "execute_result"
    }
   ],
   "source": [
    "dd.isna().sum()"
   ]
  },
  {
   "attachments": {},
   "cell_type": "markdown",
   "metadata": {},
   "source": [
    "### Order protocol  \n",
    "\n",
    "It can be done the same work done previously, maybe certain restaurants have a more popular order protocol."
   ]
  },
  {
   "cell_type": "code",
   "execution_count": 24,
   "metadata": {},
   "outputs": [
    {
     "data": {
      "text/plain": [
       "1.0    54723\n",
       "3.0    53197\n",
       "5.0    44289\n",
       "2.0    24051\n",
       "4.0    19353\n",
       "6.0      794\n",
       "7.0       19\n",
       "Name: order_protocol, dtype: int64"
      ]
     },
     "execution_count": 24,
     "metadata": {},
     "output_type": "execute_result"
    }
   ],
   "source": [
    "dd.order_protocol.value_counts()"
   ]
  },
  {
   "cell_type": "code",
   "execution_count": 25,
   "metadata": {},
   "outputs": [],
   "source": [
    "# Creating an empty df\n",
    "order_p_df = pd.DataFrame()\n",
    "\n",
    "# Replacing values\n",
    "for x in unique_id:\n",
    "    try:\n",
    "        most_popular = dd[dd.store_id == x]['order_protocol'].mode()[0]\n",
    "        rep_df = dd[dd.store_id == x]['order_protocol'].fillna(most_popular)\n",
    "        order_p_df = pd.concat([order_p_df, rep_df])\n",
    "    except:\n",
    "        null_protocol = dd[dd.store_id == x]['order_protocol']\n",
    "        order_p_df = pd.concat([order_p_df, null_protocol])"
   ]
  },
  {
   "cell_type": "code",
   "execution_count": 26,
   "metadata": {},
   "outputs": [
    {
     "data": {
      "text/plain": [
       "0         1.0\n",
       "1         2.0\n",
       "2         1.0\n",
       "3         1.0\n",
       "4         1.0\n",
       "         ... \n",
       "197423    4.0\n",
       "197424    4.0\n",
       "197425    4.0\n",
       "197426    1.0\n",
       "197427    1.0\n",
       "Name: 0, Length: 197421, dtype: float64"
      ]
     },
     "execution_count": 26,
     "metadata": {},
     "output_type": "execute_result"
    }
   ],
   "source": [
    "order_p_df[0]"
   ]
  },
  {
   "cell_type": "code",
   "execution_count": 27,
   "metadata": {},
   "outputs": [
    {
     "data": {
      "text/plain": [
       "3"
      ]
     },
     "execution_count": 27,
     "metadata": {},
     "output_type": "execute_result"
    }
   ],
   "source": [
    "dd['order_protocol'] = order_p_df[0]\n",
    "dd.order_protocol.isna().sum()"
   ]
  },
  {
   "attachments": {},
   "cell_type": "markdown",
   "metadata": {},
   "source": [
    "Only three null values remains, they could be substituted with the most common order protocol for that food."
   ]
  },
  {
   "cell_type": "code",
   "execution_count": 28,
   "metadata": {},
   "outputs": [],
   "source": [
    "# Finding the remaining stores with null order protocol\n",
    "null_stores = dd[dd.order_protocol.isna()]['store_id'].unique().tolist()\n",
    "\n",
    "# Creating an empty df\n",
    "remaining_null = pd.DataFrame()\n",
    "\n",
    "# Substituting\n",
    "\n",
    "for x in null_stores:\n",
    "    food_category = dd[dd.store_id==x]['store_primary_category'].mode()[0]\n",
    "    order_protocol_for_food = dd[dd.store_primary_category == food_category]['order_protocol'].mode()[0]\n",
    "    sub_df = dd[dd.store_id == x]['order_protocol'].fillna(order_protocol_for_food)\n",
    "    remaining_null = pd.concat([remaining_null, sub_df])"
   ]
  },
  {
   "cell_type": "code",
   "execution_count": 29,
   "metadata": {},
   "outputs": [
    {
     "data": {
      "text/html": [
       "<div>\n",
       "<style scoped>\n",
       "    .dataframe tbody tr th:only-of-type {\n",
       "        vertical-align: middle;\n",
       "    }\n",
       "\n",
       "    .dataframe tbody tr th {\n",
       "        vertical-align: top;\n",
       "    }\n",
       "\n",
       "    .dataframe thead th {\n",
       "        text-align: right;\n",
       "    }\n",
       "</style>\n",
       "<table border=\"1\" class=\"dataframe\">\n",
       "  <thead>\n",
       "    <tr style=\"text-align: right;\">\n",
       "      <th></th>\n",
       "      <th>market_id</th>\n",
       "      <th>created_at</th>\n",
       "      <th>actual_delivery_time</th>\n",
       "      <th>store_id</th>\n",
       "      <th>store_primary_category</th>\n",
       "      <th>order_protocol</th>\n",
       "      <th>total_items</th>\n",
       "      <th>subtotal</th>\n",
       "      <th>num_distinct_items</th>\n",
       "      <th>min_item_price</th>\n",
       "      <th>max_item_price</th>\n",
       "      <th>total_onshift_dashers</th>\n",
       "      <th>total_busy_dashers</th>\n",
       "      <th>total_outstanding_orders</th>\n",
       "      <th>estimated_order_place_duration</th>\n",
       "      <th>estimated_store_to_consumer_driving_duration</th>\n",
       "      <th>Target</th>\n",
       "    </tr>\n",
       "  </thead>\n",
       "  <tbody>\n",
       "    <tr>\n",
       "      <th>152850</th>\n",
       "      <td>2.0</td>\n",
       "      <td>2015-02-08 23:43:19</td>\n",
       "      <td>2015-02-09 00:33:20</td>\n",
       "      <td>4122</td>\n",
       "      <td>pizza</td>\n",
       "      <td>NaN</td>\n",
       "      <td>2</td>\n",
       "      <td>3400</td>\n",
       "      <td>2</td>\n",
       "      <td>1000</td>\n",
       "      <td>1400</td>\n",
       "      <td>3.0</td>\n",
       "      <td>3.0</td>\n",
       "      <td>3.0</td>\n",
       "      <td>446</td>\n",
       "      <td>586.0</td>\n",
       "      <td>3001</td>\n",
       "    </tr>\n",
       "    <tr>\n",
       "      <th>186154</th>\n",
       "      <td>2.0</td>\n",
       "      <td>2015-02-15 23:53:45</td>\n",
       "      <td>2015-02-16 00:25:42</td>\n",
       "      <td>5774</td>\n",
       "      <td>sandwich</td>\n",
       "      <td>NaN</td>\n",
       "      <td>3</td>\n",
       "      <td>1550</td>\n",
       "      <td>2</td>\n",
       "      <td>250</td>\n",
       "      <td>900</td>\n",
       "      <td>14.0</td>\n",
       "      <td>14.0</td>\n",
       "      <td>18.0</td>\n",
       "      <td>446</td>\n",
       "      <td>261.0</td>\n",
       "      <td>1917</td>\n",
       "    </tr>\n",
       "    <tr>\n",
       "      <th>120923</th>\n",
       "      <td>2.0</td>\n",
       "      <td>2015-02-08 03:39:46</td>\n",
       "      <td>2015-02-08 04:25:31</td>\n",
       "      <td>3258</td>\n",
       "      <td>mexican</td>\n",
       "      <td>NaN</td>\n",
       "      <td>3</td>\n",
       "      <td>3470</td>\n",
       "      <td>3</td>\n",
       "      <td>725</td>\n",
       "      <td>1795</td>\n",
       "      <td>NaN</td>\n",
       "      <td>NaN</td>\n",
       "      <td>NaN</td>\n",
       "      <td>446</td>\n",
       "      <td>395.0</td>\n",
       "      <td>2745</td>\n",
       "    </tr>\n",
       "  </tbody>\n",
       "</table>\n",
       "</div>"
      ],
      "text/plain": [
       "        market_id          created_at actual_delivery_time  store_id  \\\n",
       "152850        2.0 2015-02-08 23:43:19  2015-02-09 00:33:20      4122   \n",
       "186154        2.0 2015-02-15 23:53:45  2015-02-16 00:25:42      5774   \n",
       "120923        2.0 2015-02-08 03:39:46  2015-02-08 04:25:31      3258   \n",
       "\n",
       "       store_primary_category  order_protocol  total_items  subtotal  \\\n",
       "152850                  pizza             NaN            2      3400   \n",
       "186154               sandwich             NaN            3      1550   \n",
       "120923                mexican             NaN            3      3470   \n",
       "\n",
       "        num_distinct_items  min_item_price  max_item_price  \\\n",
       "152850                   2            1000            1400   \n",
       "186154                   2             250             900   \n",
       "120923                   3             725            1795   \n",
       "\n",
       "        total_onshift_dashers  total_busy_dashers  total_outstanding_orders  \\\n",
       "152850                    3.0                 3.0                       3.0   \n",
       "186154                   14.0                14.0                      18.0   \n",
       "120923                    NaN                 NaN                       NaN   \n",
       "\n",
       "        estimated_order_place_duration  \\\n",
       "152850                             446   \n",
       "186154                             446   \n",
       "120923                             446   \n",
       "\n",
       "        estimated_store_to_consumer_driving_duration  Target  \n",
       "152850                                         586.0    3001  \n",
       "186154                                         261.0    1917  \n",
       "120923                                         395.0    2745  "
      ]
     },
     "execution_count": 29,
     "metadata": {},
     "output_type": "execute_result"
    }
   ],
   "source": [
    "dd[dd.order_protocol.isna()]"
   ]
  },
  {
   "cell_type": "code",
   "execution_count": 30,
   "metadata": {},
   "outputs": [
    {
     "data": {
      "text/plain": [
       "0"
      ]
     },
     "execution_count": 30,
     "metadata": {},
     "output_type": "execute_result"
    }
   ],
   "source": [
    "# Null order protocol \n",
    "null_order_protocol = dd[dd.order_protocol.isna()]\n",
    "\n",
    "# Substituting\n",
    "null_order_protocol['order_protocol'] = remaining_null[0]\n",
    "\n",
    "# Null values indexes to drop \n",
    "drop_index = dd[dd.order_protocol.isna()].index \n",
    "\n",
    "# Dropping\n",
    "dd.drop(index=drop_index, inplace=True)\n",
    "\n",
    "# Adding the new values\n",
    "dd = pd.concat([dd, null_order_protocol])\n",
    "\n",
    "# Checking the result\n",
    "dd.order_protocol.isna().sum()"
   ]
  },
  {
   "cell_type": "code",
   "execution_count": 31,
   "metadata": {},
   "outputs": [
    {
     "data": {
      "text/html": [
       "<div>\n",
       "<style scoped>\n",
       "    .dataframe tbody tr th:only-of-type {\n",
       "        vertical-align: middle;\n",
       "    }\n",
       "\n",
       "    .dataframe tbody tr th {\n",
       "        vertical-align: top;\n",
       "    }\n",
       "\n",
       "    .dataframe thead th {\n",
       "        text-align: right;\n",
       "    }\n",
       "</style>\n",
       "<table border=\"1\" class=\"dataframe\">\n",
       "  <thead>\n",
       "    <tr style=\"text-align: right;\">\n",
       "      <th></th>\n",
       "      <th>market_id</th>\n",
       "      <th>created_at</th>\n",
       "      <th>actual_delivery_time</th>\n",
       "      <th>store_id</th>\n",
       "      <th>store_primary_category</th>\n",
       "      <th>order_protocol</th>\n",
       "      <th>total_items</th>\n",
       "      <th>subtotal</th>\n",
       "      <th>num_distinct_items</th>\n",
       "      <th>min_item_price</th>\n",
       "      <th>max_item_price</th>\n",
       "      <th>total_onshift_dashers</th>\n",
       "      <th>total_busy_dashers</th>\n",
       "      <th>total_outstanding_orders</th>\n",
       "      <th>estimated_order_place_duration</th>\n",
       "      <th>estimated_store_to_consumer_driving_duration</th>\n",
       "      <th>Target</th>\n",
       "    </tr>\n",
       "  </thead>\n",
       "  <tbody>\n",
       "    <tr>\n",
       "      <th>0</th>\n",
       "      <td>1.0</td>\n",
       "      <td>2015-02-06 22:24:17</td>\n",
       "      <td>2015-02-06 23:27:16</td>\n",
       "      <td>1845</td>\n",
       "      <td>american</td>\n",
       "      <td>1.0</td>\n",
       "      <td>4</td>\n",
       "      <td>3441</td>\n",
       "      <td>4</td>\n",
       "      <td>557</td>\n",
       "      <td>1239</td>\n",
       "      <td>33.0</td>\n",
       "      <td>14.0</td>\n",
       "      <td>21.0</td>\n",
       "      <td>446</td>\n",
       "      <td>861.0</td>\n",
       "      <td>3779</td>\n",
       "    </tr>\n",
       "    <tr>\n",
       "      <th>1</th>\n",
       "      <td>2.0</td>\n",
       "      <td>2015-02-10 21:49:25</td>\n",
       "      <td>2015-02-10 22:56:29</td>\n",
       "      <td>5477</td>\n",
       "      <td>mexican</td>\n",
       "      <td>2.0</td>\n",
       "      <td>1</td>\n",
       "      <td>1900</td>\n",
       "      <td>1</td>\n",
       "      <td>1400</td>\n",
       "      <td>1400</td>\n",
       "      <td>1.0</td>\n",
       "      <td>2.0</td>\n",
       "      <td>2.0</td>\n",
       "      <td>446</td>\n",
       "      <td>690.0</td>\n",
       "      <td>4024</td>\n",
       "    </tr>\n",
       "    <tr>\n",
       "      <th>2</th>\n",
       "      <td>3.0</td>\n",
       "      <td>2015-01-22 20:39:28</td>\n",
       "      <td>2015-01-22 21:09:09</td>\n",
       "      <td>5477</td>\n",
       "      <td>indian</td>\n",
       "      <td>1.0</td>\n",
       "      <td>1</td>\n",
       "      <td>1900</td>\n",
       "      <td>1</td>\n",
       "      <td>1900</td>\n",
       "      <td>1900</td>\n",
       "      <td>1.0</td>\n",
       "      <td>0.0</td>\n",
       "      <td>0.0</td>\n",
       "      <td>446</td>\n",
       "      <td>690.0</td>\n",
       "      <td>1781</td>\n",
       "    </tr>\n",
       "    <tr>\n",
       "      <th>3</th>\n",
       "      <td>3.0</td>\n",
       "      <td>2015-02-03 21:21:45</td>\n",
       "      <td>2015-02-03 22:13:00</td>\n",
       "      <td>5477</td>\n",
       "      <td>indian</td>\n",
       "      <td>1.0</td>\n",
       "      <td>6</td>\n",
       "      <td>6900</td>\n",
       "      <td>5</td>\n",
       "      <td>600</td>\n",
       "      <td>1800</td>\n",
       "      <td>1.0</td>\n",
       "      <td>1.0</td>\n",
       "      <td>2.0</td>\n",
       "      <td>446</td>\n",
       "      <td>289.0</td>\n",
       "      <td>3075</td>\n",
       "    </tr>\n",
       "    <tr>\n",
       "      <th>4</th>\n",
       "      <td>3.0</td>\n",
       "      <td>2015-02-15 02:40:36</td>\n",
       "      <td>2015-02-15 03:20:26</td>\n",
       "      <td>5477</td>\n",
       "      <td>indian</td>\n",
       "      <td>1.0</td>\n",
       "      <td>3</td>\n",
       "      <td>3900</td>\n",
       "      <td>3</td>\n",
       "      <td>1100</td>\n",
       "      <td>1600</td>\n",
       "      <td>6.0</td>\n",
       "      <td>6.0</td>\n",
       "      <td>9.0</td>\n",
       "      <td>446</td>\n",
       "      <td>650.0</td>\n",
       "      <td>2390</td>\n",
       "    </tr>\n",
       "  </tbody>\n",
       "</table>\n",
       "</div>"
      ],
      "text/plain": [
       "   market_id          created_at actual_delivery_time  store_id  \\\n",
       "0        1.0 2015-02-06 22:24:17  2015-02-06 23:27:16      1845   \n",
       "1        2.0 2015-02-10 21:49:25  2015-02-10 22:56:29      5477   \n",
       "2        3.0 2015-01-22 20:39:28  2015-01-22 21:09:09      5477   \n",
       "3        3.0 2015-02-03 21:21:45  2015-02-03 22:13:00      5477   \n",
       "4        3.0 2015-02-15 02:40:36  2015-02-15 03:20:26      5477   \n",
       "\n",
       "  store_primary_category  order_protocol  total_items  subtotal  \\\n",
       "0               american             1.0            4      3441   \n",
       "1                mexican             2.0            1      1900   \n",
       "2                 indian             1.0            1      1900   \n",
       "3                 indian             1.0            6      6900   \n",
       "4                 indian             1.0            3      3900   \n",
       "\n",
       "   num_distinct_items  min_item_price  max_item_price  total_onshift_dashers  \\\n",
       "0                   4             557            1239                   33.0   \n",
       "1                   1            1400            1400                    1.0   \n",
       "2                   1            1900            1900                    1.0   \n",
       "3                   5             600            1800                    1.0   \n",
       "4                   3            1100            1600                    6.0   \n",
       "\n",
       "   total_busy_dashers  total_outstanding_orders  \\\n",
       "0                14.0                      21.0   \n",
       "1                 2.0                       2.0   \n",
       "2                 0.0                       0.0   \n",
       "3                 1.0                       2.0   \n",
       "4                 6.0                       9.0   \n",
       "\n",
       "   estimated_order_place_duration  \\\n",
       "0                             446   \n",
       "1                             446   \n",
       "2                             446   \n",
       "3                             446   \n",
       "4                             446   \n",
       "\n",
       "   estimated_store_to_consumer_driving_duration  Target  \n",
       "0                                         861.0    3779  \n",
       "1                                         690.0    4024  \n",
       "2                                         690.0    1781  \n",
       "3                                         289.0    3075  \n",
       "4                                         650.0    2390  "
      ]
     },
     "execution_count": 31,
     "metadata": {},
     "output_type": "execute_result"
    }
   ],
   "source": [
    "dd.head()"
   ]
  },
  {
   "cell_type": "code",
   "execution_count": 32,
   "metadata": {},
   "outputs": [
    {
     "data": {
      "text/plain": [
       "market_id                                           0\n",
       "created_at                                          0\n",
       "actual_delivery_time                                0\n",
       "store_id                                            0\n",
       "store_primary_category                              0\n",
       "order_protocol                                      0\n",
       "total_items                                         0\n",
       "subtotal                                            0\n",
       "num_distinct_items                                  0\n",
       "min_item_price                                      0\n",
       "max_item_price                                      0\n",
       "total_onshift_dashers                           16262\n",
       "total_busy_dashers                              16262\n",
       "total_outstanding_orders                        16262\n",
       "estimated_order_place_duration                      0\n",
       "estimated_store_to_consumer_driving_duration      526\n",
       "Target                                              0\n",
       "dtype: int64"
      ]
     },
     "execution_count": 32,
     "metadata": {},
     "output_type": "execute_result"
    }
   ],
   "source": [
    "dd.isna().sum()"
   ]
  },
  {
   "attachments": {},
   "cell_type": "markdown",
   "metadata": {},
   "source": [
    "### Total busy dashers  \n",
    "\n",
    "Replacing with the average value of the store, else, with the average vvalue of the market."
   ]
  },
  {
   "cell_type": "code",
   "execution_count": 33,
   "metadata": {},
   "outputs": [],
   "source": [
    "def dash_and_orders(column):\n",
    "    df_to_append = pd.DataFrame()\n",
    "    try:\n",
    "        for x in unique_id:\n",
    "            avg = dd[dd.store_id == x][column].mean()\n",
    "            df_remove_null = dd[dd.store_id == x][column].fillna(avg)\n",
    "            df_to_append = pd.concat([df_to_append, df_remove_null])\n",
    "    except:\n",
    "        df_with_null = dd[dd.store_id==x][column]\n",
    "        df_to_append = pd.concat([df_to_append, df_with_null])\n",
    "    return df_to_append "
   ]
  },
  {
   "cell_type": "code",
   "execution_count": 34,
   "metadata": {},
   "outputs": [
    {
     "data": {
      "text/html": [
       "<div>\n",
       "<style scoped>\n",
       "    .dataframe tbody tr th:only-of-type {\n",
       "        vertical-align: middle;\n",
       "    }\n",
       "\n",
       "    .dataframe tbody tr th {\n",
       "        vertical-align: top;\n",
       "    }\n",
       "\n",
       "    .dataframe thead th {\n",
       "        text-align: right;\n",
       "    }\n",
       "</style>\n",
       "<table border=\"1\" class=\"dataframe\">\n",
       "  <thead>\n",
       "    <tr style=\"text-align: right;\">\n",
       "      <th></th>\n",
       "      <th>0</th>\n",
       "    </tr>\n",
       "  </thead>\n",
       "  <tbody>\n",
       "    <tr>\n",
       "      <th>0</th>\n",
       "      <td>14.0</td>\n",
       "    </tr>\n",
       "    <tr>\n",
       "      <th>1</th>\n",
       "      <td>2.0</td>\n",
       "    </tr>\n",
       "    <tr>\n",
       "      <th>2</th>\n",
       "      <td>0.0</td>\n",
       "    </tr>\n",
       "    <tr>\n",
       "      <th>3</th>\n",
       "      <td>1.0</td>\n",
       "    </tr>\n",
       "    <tr>\n",
       "      <th>4</th>\n",
       "      <td>6.0</td>\n",
       "    </tr>\n",
       "    <tr>\n",
       "      <th>...</th>\n",
       "      <td>...</td>\n",
       "    </tr>\n",
       "    <tr>\n",
       "      <th>197423</th>\n",
       "      <td>17.0</td>\n",
       "    </tr>\n",
       "    <tr>\n",
       "      <th>197424</th>\n",
       "      <td>11.0</td>\n",
       "    </tr>\n",
       "    <tr>\n",
       "      <th>197425</th>\n",
       "      <td>41.0</td>\n",
       "    </tr>\n",
       "    <tr>\n",
       "      <th>197426</th>\n",
       "      <td>7.0</td>\n",
       "    </tr>\n",
       "    <tr>\n",
       "      <th>197427</th>\n",
       "      <td>20.0</td>\n",
       "    </tr>\n",
       "  </tbody>\n",
       "</table>\n",
       "<p>197421 rows × 1 columns</p>\n",
       "</div>"
      ],
      "text/plain": [
       "           0\n",
       "0       14.0\n",
       "1        2.0\n",
       "2        0.0\n",
       "3        1.0\n",
       "4        6.0\n",
       "...      ...\n",
       "197423  17.0\n",
       "197424  11.0\n",
       "197425  41.0\n",
       "197426   7.0\n",
       "197427  20.0\n",
       "\n",
       "[197421 rows x 1 columns]"
      ]
     },
     "execution_count": 34,
     "metadata": {},
     "output_type": "execute_result"
    }
   ],
   "source": [
    "# Total busy dashers\n",
    "busy_dashers = dash_and_orders('total_busy_dashers')\n",
    "busy_dashers"
   ]
  },
  {
   "cell_type": "code",
   "execution_count": 35,
   "metadata": {},
   "outputs": [
    {
     "data": {
      "text/plain": [
       "16130"
      ]
     },
     "execution_count": 35,
     "metadata": {},
     "output_type": "execute_result"
    }
   ],
   "source": [
    "dd['total_busy_dashers'] = busy_dashers[0]\n",
    "dd.total_busy_dashers.isna().sum()"
   ]
  },
  {
   "attachments": {},
   "cell_type": "markdown",
   "metadata": {},
   "source": [
    "Now, it is possible to use the average of the market id."
   ]
  },
  {
   "cell_type": "code",
   "execution_count": 36,
   "metadata": {},
   "outputs": [],
   "source": [
    "avg_mkt_dict = {}"
   ]
  },
  {
   "cell_type": "code",
   "execution_count": 37,
   "metadata": {},
   "outputs": [],
   "source": [
    "def avg_mkt(id):\n",
    "    avg = round(dd[dd.market_id == id]['total_busy_dashers'].mean())\n",
    "    avg_mkt_dict[id] = avg"
   ]
  },
  {
   "cell_type": "code",
   "execution_count": 38,
   "metadata": {},
   "outputs": [
    {
     "data": {
      "text/plain": [
       "{1.0: 23, 2.0: 57, 3.0: 17, 4.0: 57, 5.0: 20, 6.0: 42}"
      ]
     },
     "execution_count": 38,
     "metadata": {},
     "output_type": "execute_result"
    }
   ],
   "source": [
    "[avg_mkt(id) for id in market_id_unique]\n",
    "avg_mkt_dict"
   ]
  },
  {
   "cell_type": "code",
   "execution_count": 39,
   "metadata": {},
   "outputs": [
    {
     "data": {
      "text/plain": [
       "0"
      ]
     },
     "execution_count": 39,
     "metadata": {},
     "output_type": "execute_result"
    }
   ],
   "source": [
    "# Creating a dataframe with null values\n",
    "df_to_add = dd[dd.total_busy_dashers.isna()]\n",
    "\n",
    "# Finding indexes to drop\n",
    "indexes_to_remove = dd[dd.total_busy_dashers.isna()].index \n",
    "\n",
    "# Substituting values\n",
    "df_to_add['total_busy_dashers'] = df_to_add.market_id.map(avg_mkt_dict)\n",
    "\n",
    "# Removing values\n",
    "dd.drop(index=indexes_to_remove, inplace=True) \n",
    "\n",
    "# Adding the new ones\n",
    "dd = pd.concat([dd, df_to_add])\n",
    "\n",
    "# Checking the result\n",
    "dd.total_busy_dashers.isna().sum()"
   ]
  },
  {
   "cell_type": "code",
   "execution_count": 40,
   "metadata": {},
   "outputs": [
    {
     "data": {
      "text/plain": [
       "market_id                                           0\n",
       "created_at                                          0\n",
       "actual_delivery_time                                0\n",
       "store_id                                            0\n",
       "store_primary_category                              0\n",
       "order_protocol                                      0\n",
       "total_items                                         0\n",
       "subtotal                                            0\n",
       "num_distinct_items                                  0\n",
       "min_item_price                                      0\n",
       "max_item_price                                      0\n",
       "total_onshift_dashers                           16262\n",
       "total_busy_dashers                                  0\n",
       "total_outstanding_orders                        16262\n",
       "estimated_order_place_duration                      0\n",
       "estimated_store_to_consumer_driving_duration      526\n",
       "Target                                              0\n",
       "dtype: int64"
      ]
     },
     "execution_count": 40,
     "metadata": {},
     "output_type": "execute_result"
    }
   ],
   "source": [
    "dd.isna().sum()"
   ]
  },
  {
   "attachments": {},
   "cell_type": "markdown",
   "metadata": {},
   "source": [
    "### Total onshift dashers"
   ]
  },
  {
   "cell_type": "code",
   "execution_count": 41,
   "metadata": {},
   "outputs": [
    {
     "data": {
      "text/html": [
       "<div>\n",
       "<style scoped>\n",
       "    .dataframe tbody tr th:only-of-type {\n",
       "        vertical-align: middle;\n",
       "    }\n",
       "\n",
       "    .dataframe tbody tr th {\n",
       "        vertical-align: top;\n",
       "    }\n",
       "\n",
       "    .dataframe thead th {\n",
       "        text-align: right;\n",
       "    }\n",
       "</style>\n",
       "<table border=\"1\" class=\"dataframe\">\n",
       "  <thead>\n",
       "    <tr style=\"text-align: right;\">\n",
       "      <th></th>\n",
       "      <th>0</th>\n",
       "    </tr>\n",
       "  </thead>\n",
       "  <tbody>\n",
       "    <tr>\n",
       "      <th>0</th>\n",
       "      <td>33.0</td>\n",
       "    </tr>\n",
       "    <tr>\n",
       "      <th>1</th>\n",
       "      <td>1.0</td>\n",
       "    </tr>\n",
       "    <tr>\n",
       "      <th>2</th>\n",
       "      <td>1.0</td>\n",
       "    </tr>\n",
       "    <tr>\n",
       "      <th>3</th>\n",
       "      <td>1.0</td>\n",
       "    </tr>\n",
       "    <tr>\n",
       "      <th>4</th>\n",
       "      <td>6.0</td>\n",
       "    </tr>\n",
       "    <tr>\n",
       "      <th>...</th>\n",
       "      <td>...</td>\n",
       "    </tr>\n",
       "    <tr>\n",
       "      <th>197423</th>\n",
       "      <td>17.0</td>\n",
       "    </tr>\n",
       "    <tr>\n",
       "      <th>197424</th>\n",
       "      <td>12.0</td>\n",
       "    </tr>\n",
       "    <tr>\n",
       "      <th>197425</th>\n",
       "      <td>39.0</td>\n",
       "    </tr>\n",
       "    <tr>\n",
       "      <th>197426</th>\n",
       "      <td>7.0</td>\n",
       "    </tr>\n",
       "    <tr>\n",
       "      <th>197427</th>\n",
       "      <td>20.0</td>\n",
       "    </tr>\n",
       "  </tbody>\n",
       "</table>\n",
       "<p>197421 rows × 1 columns</p>\n",
       "</div>"
      ],
      "text/plain": [
       "           0\n",
       "0       33.0\n",
       "1        1.0\n",
       "2        1.0\n",
       "3        1.0\n",
       "4        6.0\n",
       "...      ...\n",
       "197423  17.0\n",
       "197424  12.0\n",
       "197425  39.0\n",
       "197426   7.0\n",
       "197427  20.0\n",
       "\n",
       "[197421 rows x 1 columns]"
      ]
     },
     "execution_count": 41,
     "metadata": {},
     "output_type": "execute_result"
    }
   ],
   "source": [
    "onshift_dashers = dash_and_orders('total_onshift_dashers')\n",
    "onshift_dashers"
   ]
  },
  {
   "cell_type": "code",
   "execution_count": 42,
   "metadata": {},
   "outputs": [],
   "source": [
    "dd['total_onshift_dashers'] = onshift_dashers[0]"
   ]
  },
  {
   "cell_type": "code",
   "execution_count": 43,
   "metadata": {},
   "outputs": [],
   "source": [
    "onshift_dict = {}"
   ]
  },
  {
   "cell_type": "code",
   "execution_count": 44,
   "metadata": {},
   "outputs": [],
   "source": [
    "def avg_mkt(id, column):\n",
    "    avg = round(dd[dd.market_id == id][column].mean())\n",
    "    onshift_dict[id] = avg"
   ]
  },
  {
   "cell_type": "code",
   "execution_count": 45,
   "metadata": {},
   "outputs": [
    {
     "data": {
      "text/plain": [
       "{1.0: 24, 2.0: 62, 3.0: 19, 4.0: 60, 5.0: 24, 6.0: 45}"
      ]
     },
     "execution_count": 45,
     "metadata": {},
     "output_type": "execute_result"
    }
   ],
   "source": [
    "[avg_mkt(id, 'total_onshift_dashers') for id in market_id_unique]\n",
    "onshift_dict"
   ]
  },
  {
   "cell_type": "code",
   "execution_count": 46,
   "metadata": {},
   "outputs": [
    {
     "data": {
      "text/plain": [
       "0"
      ]
     },
     "execution_count": 46,
     "metadata": {},
     "output_type": "execute_result"
    }
   ],
   "source": [
    "# Creating a dataframe with null values\n",
    "df_to_add = dd[dd.total_onshift_dashers.isna()]\n",
    "\n",
    "# Finding indexes to drop\n",
    "indexes_to_remove = dd[dd.total_onshift_dashers.isna()].index \n",
    "\n",
    "# Substituting values\n",
    "df_to_add['total_onshift_dashers'] = df_to_add.market_id.map(onshift_dict)\n",
    "\n",
    "# Removing values\n",
    "dd.drop(index=indexes_to_remove, inplace=True) \n",
    "\n",
    "# Adding the new ones\n",
    "dd = pd.concat([dd, df_to_add])\n",
    "\n",
    "# Checking the result\n",
    "dd.total_onshift_dashers.isna().sum()"
   ]
  },
  {
   "cell_type": "code",
   "execution_count": 47,
   "metadata": {},
   "outputs": [
    {
     "data": {
      "text/plain": [
       "market_id                                           0\n",
       "created_at                                          0\n",
       "actual_delivery_time                                0\n",
       "store_id                                            0\n",
       "store_primary_category                              0\n",
       "order_protocol                                      0\n",
       "total_items                                         0\n",
       "subtotal                                            0\n",
       "num_distinct_items                                  0\n",
       "min_item_price                                      0\n",
       "max_item_price                                      0\n",
       "total_onshift_dashers                               0\n",
       "total_busy_dashers                                  0\n",
       "total_outstanding_orders                        16262\n",
       "estimated_order_place_duration                      0\n",
       "estimated_store_to_consumer_driving_duration      526\n",
       "Target                                              0\n",
       "dtype: int64"
      ]
     },
     "execution_count": 47,
     "metadata": {},
     "output_type": "execute_result"
    }
   ],
   "source": [
    "dd.isna().sum()"
   ]
  },
  {
   "attachments": {},
   "cell_type": "markdown",
   "metadata": {},
   "source": [
    "### Total outstanding orders"
   ]
  },
  {
   "cell_type": "code",
   "execution_count": 48,
   "metadata": {},
   "outputs": [
    {
     "data": {
      "text/html": [
       "<div>\n",
       "<style scoped>\n",
       "    .dataframe tbody tr th:only-of-type {\n",
       "        vertical-align: middle;\n",
       "    }\n",
       "\n",
       "    .dataframe tbody tr th {\n",
       "        vertical-align: top;\n",
       "    }\n",
       "\n",
       "    .dataframe thead th {\n",
       "        text-align: right;\n",
       "    }\n",
       "</style>\n",
       "<table border=\"1\" class=\"dataframe\">\n",
       "  <thead>\n",
       "    <tr style=\"text-align: right;\">\n",
       "      <th></th>\n",
       "      <th>0</th>\n",
       "    </tr>\n",
       "  </thead>\n",
       "  <tbody>\n",
       "    <tr>\n",
       "      <th>0</th>\n",
       "      <td>21.0</td>\n",
       "    </tr>\n",
       "    <tr>\n",
       "      <th>1</th>\n",
       "      <td>2.0</td>\n",
       "    </tr>\n",
       "    <tr>\n",
       "      <th>2</th>\n",
       "      <td>0.0</td>\n",
       "    </tr>\n",
       "    <tr>\n",
       "      <th>3</th>\n",
       "      <td>2.0</td>\n",
       "    </tr>\n",
       "    <tr>\n",
       "      <th>4</th>\n",
       "      <td>9.0</td>\n",
       "    </tr>\n",
       "    <tr>\n",
       "      <th>...</th>\n",
       "      <td>...</td>\n",
       "    </tr>\n",
       "    <tr>\n",
       "      <th>197423</th>\n",
       "      <td>23.0</td>\n",
       "    </tr>\n",
       "    <tr>\n",
       "      <th>197424</th>\n",
       "      <td>14.0</td>\n",
       "    </tr>\n",
       "    <tr>\n",
       "      <th>197425</th>\n",
       "      <td>40.0</td>\n",
       "    </tr>\n",
       "    <tr>\n",
       "      <th>197426</th>\n",
       "      <td>12.0</td>\n",
       "    </tr>\n",
       "    <tr>\n",
       "      <th>197427</th>\n",
       "      <td>23.0</td>\n",
       "    </tr>\n",
       "  </tbody>\n",
       "</table>\n",
       "<p>197421 rows × 1 columns</p>\n",
       "</div>"
      ],
      "text/plain": [
       "           0\n",
       "0       21.0\n",
       "1        2.0\n",
       "2        0.0\n",
       "3        2.0\n",
       "4        9.0\n",
       "...      ...\n",
       "197423  23.0\n",
       "197424  14.0\n",
       "197425  40.0\n",
       "197426  12.0\n",
       "197427  23.0\n",
       "\n",
       "[197421 rows x 1 columns]"
      ]
     },
     "execution_count": 48,
     "metadata": {},
     "output_type": "execute_result"
    }
   ],
   "source": [
    "outstanding_orders = dash_and_orders('total_outstanding_orders')\n",
    "outstanding_orders"
   ]
  },
  {
   "cell_type": "code",
   "execution_count": 49,
   "metadata": {},
   "outputs": [],
   "source": [
    "dd['total_outstanding_orders'] = outstanding_orders[0]"
   ]
  },
  {
   "cell_type": "code",
   "execution_count": 50,
   "metadata": {},
   "outputs": [],
   "source": [
    "outstanding_dict = {}"
   ]
  },
  {
   "cell_type": "code",
   "execution_count": 51,
   "metadata": {},
   "outputs": [],
   "source": [
    "def avg_mkt(id, column):\n",
    "    avg = round(dd[dd.market_id == id][column].mean())\n",
    "    outstanding_dict[id] = avg"
   ]
  },
  {
   "cell_type": "code",
   "execution_count": 52,
   "metadata": {},
   "outputs": [
    {
     "data": {
      "text/plain": [
       "{1.0: 30, 2.0: 82, 3.0: 20, 4.0: 82, 5.0: 26, 6.0: 58}"
      ]
     },
     "execution_count": 52,
     "metadata": {},
     "output_type": "execute_result"
    }
   ],
   "source": [
    "[avg_mkt(id, 'total_outstanding_orders') for id in market_id_unique]\n",
    "outstanding_dict"
   ]
  },
  {
   "cell_type": "code",
   "execution_count": 53,
   "metadata": {},
   "outputs": [
    {
     "data": {
      "text/plain": [
       "0"
      ]
     },
     "execution_count": 53,
     "metadata": {},
     "output_type": "execute_result"
    }
   ],
   "source": [
    "# Creating a dataframe with null values\n",
    "df_to_add = dd[dd.total_outstanding_orders.isna()]\n",
    "\n",
    "# Finding indexes to drop\n",
    "indexes_to_remove = dd[dd.total_outstanding_orders.isna()].index \n",
    "\n",
    "# Substituting values\n",
    "df_to_add['total_outstanding_orders'] = df_to_add.market_id.map(outstanding_dict)\n",
    "\n",
    "# Removing values\n",
    "dd.drop(index=indexes_to_remove, inplace=True) \n",
    "\n",
    "# Adding the new ones\n",
    "dd = pd.concat([dd, df_to_add])\n",
    "\n",
    "# Checking the result\n",
    "dd.total_outstanding_orders.isna().sum()"
   ]
  },
  {
   "cell_type": "code",
   "execution_count": 54,
   "metadata": {},
   "outputs": [
    {
     "data": {
      "text/plain": [
       "market_id                                         0\n",
       "created_at                                        0\n",
       "actual_delivery_time                              0\n",
       "store_id                                          0\n",
       "store_primary_category                            0\n",
       "order_protocol                                    0\n",
       "total_items                                       0\n",
       "subtotal                                          0\n",
       "num_distinct_items                                0\n",
       "min_item_price                                    0\n",
       "max_item_price                                    0\n",
       "total_onshift_dashers                             0\n",
       "total_busy_dashers                                0\n",
       "total_outstanding_orders                          0\n",
       "estimated_order_place_duration                    0\n",
       "estimated_store_to_consumer_driving_duration    526\n",
       "Target                                            0\n",
       "dtype: int64"
      ]
     },
     "execution_count": 54,
     "metadata": {},
     "output_type": "execute_result"
    }
   ],
   "source": [
    "dd.isna().sum()"
   ]
  },
  {
   "attachments": {},
   "cell_type": "markdown",
   "metadata": {},
   "source": [
    "### Estimated store to consumer driving duration"
   ]
  },
  {
   "cell_type": "code",
   "execution_count": 55,
   "metadata": {},
   "outputs": [
    {
     "data": {
      "text/html": [
       "<div>\n",
       "<style scoped>\n",
       "    .dataframe tbody tr th:only-of-type {\n",
       "        vertical-align: middle;\n",
       "    }\n",
       "\n",
       "    .dataframe tbody tr th {\n",
       "        vertical-align: top;\n",
       "    }\n",
       "\n",
       "    .dataframe thead th {\n",
       "        text-align: right;\n",
       "    }\n",
       "</style>\n",
       "<table border=\"1\" class=\"dataframe\">\n",
       "  <thead>\n",
       "    <tr style=\"text-align: right;\">\n",
       "      <th></th>\n",
       "      <th>0</th>\n",
       "    </tr>\n",
       "  </thead>\n",
       "  <tbody>\n",
       "    <tr>\n",
       "      <th>0</th>\n",
       "      <td>861.0</td>\n",
       "    </tr>\n",
       "    <tr>\n",
       "      <th>1</th>\n",
       "      <td>690.0</td>\n",
       "    </tr>\n",
       "    <tr>\n",
       "      <th>2</th>\n",
       "      <td>690.0</td>\n",
       "    </tr>\n",
       "    <tr>\n",
       "      <th>3</th>\n",
       "      <td>289.0</td>\n",
       "    </tr>\n",
       "    <tr>\n",
       "      <th>4</th>\n",
       "      <td>650.0</td>\n",
       "    </tr>\n",
       "    <tr>\n",
       "      <th>...</th>\n",
       "      <td>...</td>\n",
       "    </tr>\n",
       "    <tr>\n",
       "      <th>197423</th>\n",
       "      <td>331.0</td>\n",
       "    </tr>\n",
       "    <tr>\n",
       "      <th>197424</th>\n",
       "      <td>915.0</td>\n",
       "    </tr>\n",
       "    <tr>\n",
       "      <th>197425</th>\n",
       "      <td>795.0</td>\n",
       "    </tr>\n",
       "    <tr>\n",
       "      <th>197426</th>\n",
       "      <td>384.0</td>\n",
       "    </tr>\n",
       "    <tr>\n",
       "      <th>197427</th>\n",
       "      <td>134.0</td>\n",
       "    </tr>\n",
       "  </tbody>\n",
       "</table>\n",
       "<p>197421 rows × 1 columns</p>\n",
       "</div>"
      ],
      "text/plain": [
       "            0\n",
       "0       861.0\n",
       "1       690.0\n",
       "2       690.0\n",
       "3       289.0\n",
       "4       650.0\n",
       "...       ...\n",
       "197423  331.0\n",
       "197424  915.0\n",
       "197425  795.0\n",
       "197426  384.0\n",
       "197427  134.0\n",
       "\n",
       "[197421 rows x 1 columns]"
      ]
     },
     "execution_count": 55,
     "metadata": {},
     "output_type": "execute_result"
    }
   ],
   "source": [
    "duration = dash_and_orders('estimated_store_to_consumer_driving_duration')\n",
    "duration"
   ]
  },
  {
   "cell_type": "code",
   "execution_count": 56,
   "metadata": {},
   "outputs": [],
   "source": [
    "dd['estimated_store_to_consumer_driving_duration'] = duration[0]"
   ]
  },
  {
   "cell_type": "code",
   "execution_count": 57,
   "metadata": {},
   "outputs": [],
   "source": [
    "duration_dict = {}"
   ]
  },
  {
   "cell_type": "code",
   "execution_count": 58,
   "metadata": {},
   "outputs": [],
   "source": [
    "def avg_mkt(id, column):\n",
    "    avg = round(dd[dd.market_id == id][column].mean())\n",
    "    duration_dict[id] = avg"
   ]
  },
  {
   "cell_type": "code",
   "execution_count": 59,
   "metadata": {},
   "outputs": [
    {
     "data": {
      "text/plain": [
       "{1.0: 520, 2.0: 565, 3.0: 542, 4.0: 547, 5.0: 546, 6.0: 535}"
      ]
     },
     "execution_count": 59,
     "metadata": {},
     "output_type": "execute_result"
    }
   ],
   "source": [
    "[avg_mkt(id, 'estimated_store_to_consumer_driving_duration') for id in market_id_unique]\n",
    "duration_dict"
   ]
  },
  {
   "cell_type": "code",
   "execution_count": 60,
   "metadata": {},
   "outputs": [
    {
     "data": {
      "text/plain": [
       "0"
      ]
     },
     "execution_count": 60,
     "metadata": {},
     "output_type": "execute_result"
    }
   ],
   "source": [
    "# Creating a dataframe with null values\n",
    "df_to_add = dd[dd.estimated_store_to_consumer_driving_duration.isna()]\n",
    "\n",
    "# Finding indexes to drop\n",
    "indexes_to_remove = dd[dd.estimated_store_to_consumer_driving_duration.isna()].index \n",
    "\n",
    "# Substituting values\n",
    "df_to_add['estimated_store_to_consumer_driving_duration'] = df_to_add.market_id.map(duration_dict)\n",
    "\n",
    "# Removing values\n",
    "dd.drop(index=indexes_to_remove, inplace=True) \n",
    "\n",
    "# Adding the new ones\n",
    "dd = pd.concat([dd, df_to_add])\n",
    "\n",
    "# Checking the result\n",
    "dd.estimated_store_to_consumer_driving_duration.isna().sum()"
   ]
  },
  {
   "cell_type": "code",
   "execution_count": 61,
   "metadata": {},
   "outputs": [
    {
     "data": {
      "text/plain": [
       "market_id                                       0\n",
       "created_at                                      0\n",
       "actual_delivery_time                            0\n",
       "store_id                                        0\n",
       "store_primary_category                          0\n",
       "order_protocol                                  0\n",
       "total_items                                     0\n",
       "subtotal                                        0\n",
       "num_distinct_items                              0\n",
       "min_item_price                                  0\n",
       "max_item_price                                  0\n",
       "total_onshift_dashers                           0\n",
       "total_busy_dashers                              0\n",
       "total_outstanding_orders                        0\n",
       "estimated_order_place_duration                  0\n",
       "estimated_store_to_consumer_driving_duration    0\n",
       "Target                                          0\n",
       "dtype: int64"
      ]
     },
     "execution_count": 61,
     "metadata": {},
     "output_type": "execute_result"
    }
   ],
   "source": [
    "dd.isna().sum()"
   ]
  },
  {
   "attachments": {},
   "cell_type": "markdown",
   "metadata": {},
   "source": [
    "All the null values have been removed."
   ]
  },
  {
   "attachments": {},
   "cell_type": "markdown",
   "metadata": {},
   "source": [
    "Saving the new dataframe in a separate csv file."
   ]
  },
  {
   "cell_type": "code",
   "execution_count": 62,
   "metadata": {},
   "outputs": [],
   "source": [
    "#dd.to_csv('dd_no_null.csv', index=None)"
   ]
  },
  {
   "attachments": {},
   "cell_type": "markdown",
   "metadata": {},
   "source": [
    "# Defining Inputs and Target"
   ]
  },
  {
   "cell_type": "code",
   "execution_count": 49,
   "metadata": {},
   "outputs": [],
   "source": [
    "dd = pd.read_csv('./dd_no_null.csv', parse_dates=['created_at'])"
   ]
  },
  {
   "cell_type": "code",
   "execution_count": 50,
   "metadata": {},
   "outputs": [
    {
     "name": "stdout",
     "output_type": "stream",
     "text": [
      "<class 'pandas.core.frame.DataFrame'>\n",
      "RangeIndex: 197421 entries, 0 to 197420\n",
      "Data columns (total 17 columns):\n",
      " #   Column                                        Non-Null Count   Dtype         \n",
      "---  ------                                        --------------   -----         \n",
      " 0   market_id                                     197421 non-null  float64       \n",
      " 1   created_at                                    197421 non-null  datetime64[ns]\n",
      " 2   actual_delivery_time                          197421 non-null  object        \n",
      " 3   store_id                                      197421 non-null  int64         \n",
      " 4   store_primary_category                        197421 non-null  object        \n",
      " 5   order_protocol                                197421 non-null  float64       \n",
      " 6   total_items                                   197421 non-null  int64         \n",
      " 7   subtotal                                      197421 non-null  int64         \n",
      " 8   num_distinct_items                            197421 non-null  int64         \n",
      " 9   min_item_price                                197421 non-null  int64         \n",
      " 10  max_item_price                                197421 non-null  int64         \n",
      " 11  total_onshift_dashers                         197421 non-null  float64       \n",
      " 12  total_busy_dashers                            197421 non-null  float64       \n",
      " 13  total_outstanding_orders                      197421 non-null  float64       \n",
      " 14  estimated_order_place_duration                197421 non-null  int64         \n",
      " 15  estimated_store_to_consumer_driving_duration  197421 non-null  float64       \n",
      " 16  Target                                        197421 non-null  int64         \n",
      "dtypes: datetime64[ns](1), float64(6), int64(8), object(2)\n",
      "memory usage: 25.6+ MB\n"
     ]
    }
   ],
   "source": [
    "dd.info()"
   ]
  },
  {
   "attachments": {},
   "cell_type": "markdown",
   "metadata": {},
   "source": [
    "Some columns can be dropped:  \n",
    "- actual_delivery_time  \n",
    "- store_id \n",
    "- store_primary_category  "
   ]
  },
  {
   "cell_type": "code",
   "execution_count": 51,
   "metadata": {},
   "outputs": [],
   "source": [
    "X = dd.drop(columns=['actual_delivery_time', 'store_id', 'Target'])\n",
    "y = dd.Target"
   ]
  },
  {
   "cell_type": "code",
   "execution_count": 52,
   "metadata": {},
   "outputs": [
    {
     "name": "stdout",
     "output_type": "stream",
     "text": [
      "<class 'pandas.core.frame.DataFrame'>\n",
      "RangeIndex: 197421 entries, 0 to 197420\n",
      "Data columns (total 14 columns):\n",
      " #   Column                                        Non-Null Count   Dtype         \n",
      "---  ------                                        --------------   -----         \n",
      " 0   market_id                                     197421 non-null  float64       \n",
      " 1   created_at                                    197421 non-null  datetime64[ns]\n",
      " 2   store_primary_category                        197421 non-null  object        \n",
      " 3   order_protocol                                197421 non-null  float64       \n",
      " 4   total_items                                   197421 non-null  int64         \n",
      " 5   subtotal                                      197421 non-null  int64         \n",
      " 6   num_distinct_items                            197421 non-null  int64         \n",
      " 7   min_item_price                                197421 non-null  int64         \n",
      " 8   max_item_price                                197421 non-null  int64         \n",
      " 9   total_onshift_dashers                         197421 non-null  float64       \n",
      " 10  total_busy_dashers                            197421 non-null  float64       \n",
      " 11  total_outstanding_orders                      197421 non-null  float64       \n",
      " 12  estimated_order_place_duration                197421 non-null  int64         \n",
      " 13  estimated_store_to_consumer_driving_duration  197421 non-null  float64       \n",
      "dtypes: datetime64[ns](1), float64(6), int64(6), object(1)\n",
      "memory usage: 21.1+ MB\n"
     ]
    }
   ],
   "source": [
    "X.info()"
   ]
  },
  {
   "attachments": {},
   "cell_type": "markdown",
   "metadata": {},
   "source": [
    "# Feature Engineering on X"
   ]
  },
  {
   "attachments": {},
   "cell_type": "markdown",
   "metadata": {},
   "source": [
    "## New columns related to the creation's date"
   ]
  },
  {
   "cell_type": "code",
   "execution_count": 53,
   "metadata": {},
   "outputs": [
    {
     "data": {
      "text/html": [
       "<div>\n",
       "<style scoped>\n",
       "    .dataframe tbody tr th:only-of-type {\n",
       "        vertical-align: middle;\n",
       "    }\n",
       "\n",
       "    .dataframe tbody tr th {\n",
       "        vertical-align: top;\n",
       "    }\n",
       "\n",
       "    .dataframe thead th {\n",
       "        text-align: right;\n",
       "    }\n",
       "</style>\n",
       "<table border=\"1\" class=\"dataframe\">\n",
       "  <thead>\n",
       "    <tr style=\"text-align: right;\">\n",
       "      <th></th>\n",
       "      <th>market_id</th>\n",
       "      <th>created_at</th>\n",
       "      <th>store_primary_category</th>\n",
       "      <th>order_protocol</th>\n",
       "      <th>total_items</th>\n",
       "      <th>subtotal</th>\n",
       "      <th>num_distinct_items</th>\n",
       "      <th>min_item_price</th>\n",
       "      <th>max_item_price</th>\n",
       "      <th>total_onshift_dashers</th>\n",
       "      <th>total_busy_dashers</th>\n",
       "      <th>total_outstanding_orders</th>\n",
       "      <th>estimated_order_place_duration</th>\n",
       "      <th>estimated_store_to_consumer_driving_duration</th>\n",
       "    </tr>\n",
       "  </thead>\n",
       "  <tbody>\n",
       "    <tr>\n",
       "      <th>0</th>\n",
       "      <td>1.0</td>\n",
       "      <td>2015-02-06 22:24:17</td>\n",
       "      <td>american</td>\n",
       "      <td>1.0</td>\n",
       "      <td>4</td>\n",
       "      <td>3441</td>\n",
       "      <td>4</td>\n",
       "      <td>557</td>\n",
       "      <td>1239</td>\n",
       "      <td>33.0</td>\n",
       "      <td>14.0</td>\n",
       "      <td>21.0</td>\n",
       "      <td>446</td>\n",
       "      <td>861.0</td>\n",
       "    </tr>\n",
       "  </tbody>\n",
       "</table>\n",
       "</div>"
      ],
      "text/plain": [
       "   market_id          created_at store_primary_category  order_protocol  \\\n",
       "0        1.0 2015-02-06 22:24:17               american             1.0   \n",
       "\n",
       "   total_items  subtotal  num_distinct_items  min_item_price  max_item_price  \\\n",
       "0            4      3441                   4             557            1239   \n",
       "\n",
       "   total_onshift_dashers  total_busy_dashers  total_outstanding_orders  \\\n",
       "0                   33.0                14.0                      21.0   \n",
       "\n",
       "   estimated_order_place_duration  \\\n",
       "0                             446   \n",
       "\n",
       "   estimated_store_to_consumer_driving_duration  \n",
       "0                                         861.0  "
      ]
     },
     "execution_count": 53,
     "metadata": {},
     "output_type": "execute_result"
    }
   ],
   "source": [
    "X.head(1)"
   ]
  },
  {
   "cell_type": "code",
   "execution_count": 54,
   "metadata": {},
   "outputs": [],
   "source": [
    "X['year'] = X.created_at.dt.year \n",
    "X['month'] = X.created_at.dt.month \n",
    "X['day_of_week'] = X.created_at.dt.day_of_week \n",
    "X['hour'] = X.created_at.dt.hour \n",
    "X['minutes'] = X.created_at.dt.minute  \n",
    "X['day_of_year'] = X.created_at.dt.day_of_year"
   ]
  },
  {
   "attachments": {},
   "cell_type": "markdown",
   "metadata": {},
   "source": [
    "Now it is possible to drop the 'created_at' feature."
   ]
  },
  {
   "cell_type": "code",
   "execution_count": 55,
   "metadata": {},
   "outputs": [
    {
     "data": {
      "text/html": [
       "<div>\n",
       "<style scoped>\n",
       "    .dataframe tbody tr th:only-of-type {\n",
       "        vertical-align: middle;\n",
       "    }\n",
       "\n",
       "    .dataframe tbody tr th {\n",
       "        vertical-align: top;\n",
       "    }\n",
       "\n",
       "    .dataframe thead th {\n",
       "        text-align: right;\n",
       "    }\n",
       "</style>\n",
       "<table border=\"1\" class=\"dataframe\">\n",
       "  <thead>\n",
       "    <tr style=\"text-align: right;\">\n",
       "      <th></th>\n",
       "      <th>market_id</th>\n",
       "      <th>store_primary_category</th>\n",
       "      <th>order_protocol</th>\n",
       "      <th>total_items</th>\n",
       "      <th>subtotal</th>\n",
       "      <th>num_distinct_items</th>\n",
       "      <th>min_item_price</th>\n",
       "      <th>max_item_price</th>\n",
       "      <th>total_onshift_dashers</th>\n",
       "      <th>total_busy_dashers</th>\n",
       "      <th>total_outstanding_orders</th>\n",
       "      <th>estimated_order_place_duration</th>\n",
       "      <th>estimated_store_to_consumer_driving_duration</th>\n",
       "      <th>year</th>\n",
       "      <th>month</th>\n",
       "      <th>day_of_week</th>\n",
       "      <th>hour</th>\n",
       "      <th>minutes</th>\n",
       "      <th>day_of_year</th>\n",
       "    </tr>\n",
       "  </thead>\n",
       "  <tbody>\n",
       "    <tr>\n",
       "      <th>0</th>\n",
       "      <td>1.0</td>\n",
       "      <td>american</td>\n",
       "      <td>1.0</td>\n",
       "      <td>4</td>\n",
       "      <td>3441</td>\n",
       "      <td>4</td>\n",
       "      <td>557</td>\n",
       "      <td>1239</td>\n",
       "      <td>33.0</td>\n",
       "      <td>14.0</td>\n",
       "      <td>21.0</td>\n",
       "      <td>446</td>\n",
       "      <td>861.0</td>\n",
       "      <td>2015</td>\n",
       "      <td>2</td>\n",
       "      <td>4</td>\n",
       "      <td>22</td>\n",
       "      <td>24</td>\n",
       "      <td>37</td>\n",
       "    </tr>\n",
       "    <tr>\n",
       "      <th>1</th>\n",
       "      <td>2.0</td>\n",
       "      <td>mexican</td>\n",
       "      <td>2.0</td>\n",
       "      <td>1</td>\n",
       "      <td>1900</td>\n",
       "      <td>1</td>\n",
       "      <td>1400</td>\n",
       "      <td>1400</td>\n",
       "      <td>1.0</td>\n",
       "      <td>2.0</td>\n",
       "      <td>2.0</td>\n",
       "      <td>446</td>\n",
       "      <td>690.0</td>\n",
       "      <td>2015</td>\n",
       "      <td>2</td>\n",
       "      <td>1</td>\n",
       "      <td>21</td>\n",
       "      <td>49</td>\n",
       "      <td>41</td>\n",
       "    </tr>\n",
       "    <tr>\n",
       "      <th>2</th>\n",
       "      <td>3.0</td>\n",
       "      <td>indian</td>\n",
       "      <td>1.0</td>\n",
       "      <td>1</td>\n",
       "      <td>1900</td>\n",
       "      <td>1</td>\n",
       "      <td>1900</td>\n",
       "      <td>1900</td>\n",
       "      <td>1.0</td>\n",
       "      <td>0.0</td>\n",
       "      <td>0.0</td>\n",
       "      <td>446</td>\n",
       "      <td>690.0</td>\n",
       "      <td>2015</td>\n",
       "      <td>1</td>\n",
       "      <td>3</td>\n",
       "      <td>20</td>\n",
       "      <td>39</td>\n",
       "      <td>22</td>\n",
       "    </tr>\n",
       "    <tr>\n",
       "      <th>3</th>\n",
       "      <td>3.0</td>\n",
       "      <td>indian</td>\n",
       "      <td>1.0</td>\n",
       "      <td>6</td>\n",
       "      <td>6900</td>\n",
       "      <td>5</td>\n",
       "      <td>600</td>\n",
       "      <td>1800</td>\n",
       "      <td>1.0</td>\n",
       "      <td>1.0</td>\n",
       "      <td>2.0</td>\n",
       "      <td>446</td>\n",
       "      <td>289.0</td>\n",
       "      <td>2015</td>\n",
       "      <td>2</td>\n",
       "      <td>1</td>\n",
       "      <td>21</td>\n",
       "      <td>21</td>\n",
       "      <td>34</td>\n",
       "    </tr>\n",
       "    <tr>\n",
       "      <th>4</th>\n",
       "      <td>3.0</td>\n",
       "      <td>indian</td>\n",
       "      <td>1.0</td>\n",
       "      <td>3</td>\n",
       "      <td>3900</td>\n",
       "      <td>3</td>\n",
       "      <td>1100</td>\n",
       "      <td>1600</td>\n",
       "      <td>6.0</td>\n",
       "      <td>6.0</td>\n",
       "      <td>9.0</td>\n",
       "      <td>446</td>\n",
       "      <td>650.0</td>\n",
       "      <td>2015</td>\n",
       "      <td>2</td>\n",
       "      <td>6</td>\n",
       "      <td>2</td>\n",
       "      <td>40</td>\n",
       "      <td>46</td>\n",
       "    </tr>\n",
       "  </tbody>\n",
       "</table>\n",
       "</div>"
      ],
      "text/plain": [
       "   market_id store_primary_category  order_protocol  total_items  subtotal  \\\n",
       "0        1.0               american             1.0            4      3441   \n",
       "1        2.0                mexican             2.0            1      1900   \n",
       "2        3.0                 indian             1.0            1      1900   \n",
       "3        3.0                 indian             1.0            6      6900   \n",
       "4        3.0                 indian             1.0            3      3900   \n",
       "\n",
       "   num_distinct_items  min_item_price  max_item_price  total_onshift_dashers  \\\n",
       "0                   4             557            1239                   33.0   \n",
       "1                   1            1400            1400                    1.0   \n",
       "2                   1            1900            1900                    1.0   \n",
       "3                   5             600            1800                    1.0   \n",
       "4                   3            1100            1600                    6.0   \n",
       "\n",
       "   total_busy_dashers  total_outstanding_orders  \\\n",
       "0                14.0                      21.0   \n",
       "1                 2.0                       2.0   \n",
       "2                 0.0                       0.0   \n",
       "3                 1.0                       2.0   \n",
       "4                 6.0                       9.0   \n",
       "\n",
       "   estimated_order_place_duration  \\\n",
       "0                             446   \n",
       "1                             446   \n",
       "2                             446   \n",
       "3                             446   \n",
       "4                             446   \n",
       "\n",
       "   estimated_store_to_consumer_driving_duration  year  month  day_of_week  \\\n",
       "0                                         861.0  2015      2            4   \n",
       "1                                         690.0  2015      2            1   \n",
       "2                                         690.0  2015      1            3   \n",
       "3                                         289.0  2015      2            1   \n",
       "4                                         650.0  2015      2            6   \n",
       "\n",
       "   hour  minutes  day_of_year  \n",
       "0    22       24           37  \n",
       "1    21       49           41  \n",
       "2    20       39           22  \n",
       "3    21       21           34  \n",
       "4     2       40           46  "
      ]
     },
     "execution_count": 55,
     "metadata": {},
     "output_type": "execute_result"
    }
   ],
   "source": [
    "X.drop(columns='created_at', inplace=True)\n",
    "X.head()"
   ]
  },
  {
   "attachments": {},
   "cell_type": "markdown",
   "metadata": {},
   "source": [
    "## Other ideas for feature engineering  \n",
    "\n",
    "- price per item: subtotal/total_items  \n",
    "- busy dashers over total dashers: total_busy_dashers/total_onshift_dashers\n",
    "- price range: max_item_price-min_item_price  \n",
    "- number of dashers per outstanding order: (total_onshift_dashers)/total_outstanding_orders  \n",
    "- price range / (total_items)^2 = (max_item_price - min_item_price) / np.square(total_items)   \n",
    "- order + drive = estimated_order_place_duration + estimated_store_to_consumer_driving_duration"
   ]
  },
  {
   "attachments": {},
   "cell_type": "markdown",
   "metadata": {},
   "source": [
    "### Price per item"
   ]
  },
  {
   "cell_type": "code",
   "execution_count": 56,
   "metadata": {},
   "outputs": [],
   "source": [
    "X['price_per_item'] = X.subtotal/X.total_items"
   ]
  },
  {
   "attachments": {},
   "cell_type": "markdown",
   "metadata": {},
   "source": [
    "### Busy dashers over total dashers"
   ]
  },
  {
   "cell_type": "code",
   "execution_count": 57,
   "metadata": {},
   "outputs": [],
   "source": [
    "X['busy_ratio'] = X.total_busy_dashers/(X.total_onshift_dashers+5)"
   ]
  },
  {
   "attachments": {},
   "cell_type": "markdown",
   "metadata": {},
   "source": [
    "### Price range"
   ]
  },
  {
   "cell_type": "code",
   "execution_count": 58,
   "metadata": {},
   "outputs": [],
   "source": [
    "X['price_range'] = X.max_item_price-X.min_item_price"
   ]
  },
  {
   "attachments": {},
   "cell_type": "markdown",
   "metadata": {},
   "source": [
    "### Number of dashers per outstanding order"
   ]
  },
  {
   "cell_type": "code",
   "execution_count": 59,
   "metadata": {},
   "outputs": [],
   "source": [
    "X['dashers_order_ratio'] = X.total_onshift_dashers/(X.total_outstanding_orders+7)"
   ]
  },
  {
   "attachments": {},
   "cell_type": "markdown",
   "metadata": {},
   "source": [
    "### Price range on items"
   ]
  },
  {
   "cell_type": "code",
   "execution_count": 60,
   "metadata": {},
   "outputs": [],
   "source": [
    "X['price_on_items'] = (X.max_item_price - X.min_item_price) / np.square(X.total_items)"
   ]
  },
  {
   "attachments": {},
   "cell_type": "markdown",
   "metadata": {},
   "source": [
    "### Order + drive"
   ]
  },
  {
   "cell_type": "code",
   "execution_count": 61,
   "metadata": {},
   "outputs": [],
   "source": [
    "X['order_and_drive'] = X.estimated_order_place_duration + X.estimated_store_to_consumer_driving_duration"
   ]
  },
  {
   "attachments": {},
   "cell_type": "markdown",
   "metadata": {},
   "source": [
    "# Selecting Categorical Columns to Encode"
   ]
  },
  {
   "cell_type": "code",
   "execution_count": 62,
   "metadata": {},
   "outputs": [],
   "source": [
    "from sklearn.preprocessing import OneHotEncoder\n",
    "\n",
    "categorical_cols = ['market_id', 'order_protocol', 'store_primary_category'] \n",
    "\n",
    "encoder = OneHotEncoder(sparse=False).fit(X[categorical_cols])\n",
    "\n",
    "encoded_cols = encoder.get_feature_names_out(categorical_cols)\n",
    "\n",
    "X[encoded_cols] = encoder.transform(X[categorical_cols]) "
   ]
  },
  {
   "cell_type": "code",
   "execution_count": 63,
   "metadata": {},
   "outputs": [
    {
     "data": {
      "text/html": [
       "<div>\n",
       "<style scoped>\n",
       "    .dataframe tbody tr th:only-of-type {\n",
       "        vertical-align: middle;\n",
       "    }\n",
       "\n",
       "    .dataframe tbody tr th {\n",
       "        vertical-align: top;\n",
       "    }\n",
       "\n",
       "    .dataframe thead th {\n",
       "        text-align: right;\n",
       "    }\n",
       "</style>\n",
       "<table border=\"1\" class=\"dataframe\">\n",
       "  <thead>\n",
       "    <tr style=\"text-align: right;\">\n",
       "      <th></th>\n",
       "      <th>market_id</th>\n",
       "      <th>store_primary_category</th>\n",
       "      <th>order_protocol</th>\n",
       "      <th>total_items</th>\n",
       "      <th>subtotal</th>\n",
       "      <th>num_distinct_items</th>\n",
       "      <th>min_item_price</th>\n",
       "      <th>max_item_price</th>\n",
       "      <th>total_onshift_dashers</th>\n",
       "      <th>total_busy_dashers</th>\n",
       "      <th>...</th>\n",
       "      <th>store_primary_category_southern</th>\n",
       "      <th>store_primary_category_spanish</th>\n",
       "      <th>store_primary_category_steak</th>\n",
       "      <th>store_primary_category_sushi</th>\n",
       "      <th>store_primary_category_tapas</th>\n",
       "      <th>store_primary_category_thai</th>\n",
       "      <th>store_primary_category_turkish</th>\n",
       "      <th>store_primary_category_vegan</th>\n",
       "      <th>store_primary_category_vegetarian</th>\n",
       "      <th>store_primary_category_vietnamese</th>\n",
       "    </tr>\n",
       "  </thead>\n",
       "  <tbody>\n",
       "    <tr>\n",
       "      <th>0</th>\n",
       "      <td>1.0</td>\n",
       "      <td>american</td>\n",
       "      <td>1.0</td>\n",
       "      <td>4</td>\n",
       "      <td>3441</td>\n",
       "      <td>4</td>\n",
       "      <td>557</td>\n",
       "      <td>1239</td>\n",
       "      <td>33.0</td>\n",
       "      <td>14.0</td>\n",
       "      <td>...</td>\n",
       "      <td>0.0</td>\n",
       "      <td>0.0</td>\n",
       "      <td>0.0</td>\n",
       "      <td>0.0</td>\n",
       "      <td>0.0</td>\n",
       "      <td>0.0</td>\n",
       "      <td>0.0</td>\n",
       "      <td>0.0</td>\n",
       "      <td>0.0</td>\n",
       "      <td>0.0</td>\n",
       "    </tr>\n",
       "    <tr>\n",
       "      <th>1</th>\n",
       "      <td>2.0</td>\n",
       "      <td>mexican</td>\n",
       "      <td>2.0</td>\n",
       "      <td>1</td>\n",
       "      <td>1900</td>\n",
       "      <td>1</td>\n",
       "      <td>1400</td>\n",
       "      <td>1400</td>\n",
       "      <td>1.0</td>\n",
       "      <td>2.0</td>\n",
       "      <td>...</td>\n",
       "      <td>0.0</td>\n",
       "      <td>0.0</td>\n",
       "      <td>0.0</td>\n",
       "      <td>0.0</td>\n",
       "      <td>0.0</td>\n",
       "      <td>0.0</td>\n",
       "      <td>0.0</td>\n",
       "      <td>0.0</td>\n",
       "      <td>0.0</td>\n",
       "      <td>0.0</td>\n",
       "    </tr>\n",
       "    <tr>\n",
       "      <th>2</th>\n",
       "      <td>3.0</td>\n",
       "      <td>indian</td>\n",
       "      <td>1.0</td>\n",
       "      <td>1</td>\n",
       "      <td>1900</td>\n",
       "      <td>1</td>\n",
       "      <td>1900</td>\n",
       "      <td>1900</td>\n",
       "      <td>1.0</td>\n",
       "      <td>0.0</td>\n",
       "      <td>...</td>\n",
       "      <td>0.0</td>\n",
       "      <td>0.0</td>\n",
       "      <td>0.0</td>\n",
       "      <td>0.0</td>\n",
       "      <td>0.0</td>\n",
       "      <td>0.0</td>\n",
       "      <td>0.0</td>\n",
       "      <td>0.0</td>\n",
       "      <td>0.0</td>\n",
       "      <td>0.0</td>\n",
       "    </tr>\n",
       "    <tr>\n",
       "      <th>3</th>\n",
       "      <td>3.0</td>\n",
       "      <td>indian</td>\n",
       "      <td>1.0</td>\n",
       "      <td>6</td>\n",
       "      <td>6900</td>\n",
       "      <td>5</td>\n",
       "      <td>600</td>\n",
       "      <td>1800</td>\n",
       "      <td>1.0</td>\n",
       "      <td>1.0</td>\n",
       "      <td>...</td>\n",
       "      <td>0.0</td>\n",
       "      <td>0.0</td>\n",
       "      <td>0.0</td>\n",
       "      <td>0.0</td>\n",
       "      <td>0.0</td>\n",
       "      <td>0.0</td>\n",
       "      <td>0.0</td>\n",
       "      <td>0.0</td>\n",
       "      <td>0.0</td>\n",
       "      <td>0.0</td>\n",
       "    </tr>\n",
       "    <tr>\n",
       "      <th>4</th>\n",
       "      <td>3.0</td>\n",
       "      <td>indian</td>\n",
       "      <td>1.0</td>\n",
       "      <td>3</td>\n",
       "      <td>3900</td>\n",
       "      <td>3</td>\n",
       "      <td>1100</td>\n",
       "      <td>1600</td>\n",
       "      <td>6.0</td>\n",
       "      <td>6.0</td>\n",
       "      <td>...</td>\n",
       "      <td>0.0</td>\n",
       "      <td>0.0</td>\n",
       "      <td>0.0</td>\n",
       "      <td>0.0</td>\n",
       "      <td>0.0</td>\n",
       "      <td>0.0</td>\n",
       "      <td>0.0</td>\n",
       "      <td>0.0</td>\n",
       "      <td>0.0</td>\n",
       "      <td>0.0</td>\n",
       "    </tr>\n",
       "    <tr>\n",
       "      <th>...</th>\n",
       "      <td>...</td>\n",
       "      <td>...</td>\n",
       "      <td>...</td>\n",
       "      <td>...</td>\n",
       "      <td>...</td>\n",
       "      <td>...</td>\n",
       "      <td>...</td>\n",
       "      <td>...</td>\n",
       "      <td>...</td>\n",
       "      <td>...</td>\n",
       "      <td>...</td>\n",
       "      <td>...</td>\n",
       "      <td>...</td>\n",
       "      <td>...</td>\n",
       "      <td>...</td>\n",
       "      <td>...</td>\n",
       "      <td>...</td>\n",
       "      <td>...</td>\n",
       "      <td>...</td>\n",
       "      <td>...</td>\n",
       "      <td>...</td>\n",
       "    </tr>\n",
       "    <tr>\n",
       "      <th>197416</th>\n",
       "      <td>6.0</td>\n",
       "      <td>pizza</td>\n",
       "      <td>1.0</td>\n",
       "      <td>2</td>\n",
       "      <td>5400</td>\n",
       "      <td>2</td>\n",
       "      <td>2400</td>\n",
       "      <td>3000</td>\n",
       "      <td>45.0</td>\n",
       "      <td>42.0</td>\n",
       "      <td>...</td>\n",
       "      <td>0.0</td>\n",
       "      <td>0.0</td>\n",
       "      <td>0.0</td>\n",
       "      <td>0.0</td>\n",
       "      <td>0.0</td>\n",
       "      <td>0.0</td>\n",
       "      <td>0.0</td>\n",
       "      <td>0.0</td>\n",
       "      <td>0.0</td>\n",
       "      <td>0.0</td>\n",
       "    </tr>\n",
       "    <tr>\n",
       "      <th>197417</th>\n",
       "      <td>6.0</td>\n",
       "      <td>pizza</td>\n",
       "      <td>5.0</td>\n",
       "      <td>2</td>\n",
       "      <td>900</td>\n",
       "      <td>2</td>\n",
       "      <td>400</td>\n",
       "      <td>450</td>\n",
       "      <td>45.0</td>\n",
       "      <td>42.0</td>\n",
       "      <td>...</td>\n",
       "      <td>0.0</td>\n",
       "      <td>0.0</td>\n",
       "      <td>0.0</td>\n",
       "      <td>0.0</td>\n",
       "      <td>0.0</td>\n",
       "      <td>0.0</td>\n",
       "      <td>0.0</td>\n",
       "      <td>0.0</td>\n",
       "      <td>0.0</td>\n",
       "      <td>0.0</td>\n",
       "    </tr>\n",
       "    <tr>\n",
       "      <th>197418</th>\n",
       "      <td>6.0</td>\n",
       "      <td>pizza</td>\n",
       "      <td>5.0</td>\n",
       "      <td>18</td>\n",
       "      <td>7875</td>\n",
       "      <td>9</td>\n",
       "      <td>275</td>\n",
       "      <td>475</td>\n",
       "      <td>45.0</td>\n",
       "      <td>42.0</td>\n",
       "      <td>...</td>\n",
       "      <td>0.0</td>\n",
       "      <td>0.0</td>\n",
       "      <td>0.0</td>\n",
       "      <td>0.0</td>\n",
       "      <td>0.0</td>\n",
       "      <td>0.0</td>\n",
       "      <td>0.0</td>\n",
       "      <td>0.0</td>\n",
       "      <td>0.0</td>\n",
       "      <td>0.0</td>\n",
       "    </tr>\n",
       "    <tr>\n",
       "      <th>197419</th>\n",
       "      <td>2.0</td>\n",
       "      <td>mexican</td>\n",
       "      <td>5.0</td>\n",
       "      <td>3</td>\n",
       "      <td>3470</td>\n",
       "      <td>3</td>\n",
       "      <td>725</td>\n",
       "      <td>1795</td>\n",
       "      <td>62.0</td>\n",
       "      <td>57.0</td>\n",
       "      <td>...</td>\n",
       "      <td>0.0</td>\n",
       "      <td>0.0</td>\n",
       "      <td>0.0</td>\n",
       "      <td>0.0</td>\n",
       "      <td>0.0</td>\n",
       "      <td>0.0</td>\n",
       "      <td>0.0</td>\n",
       "      <td>0.0</td>\n",
       "      <td>0.0</td>\n",
       "      <td>0.0</td>\n",
       "    </tr>\n",
       "    <tr>\n",
       "      <th>197420</th>\n",
       "      <td>3.0</td>\n",
       "      <td>american</td>\n",
       "      <td>1.0</td>\n",
       "      <td>2</td>\n",
       "      <td>1750</td>\n",
       "      <td>2</td>\n",
       "      <td>550</td>\n",
       "      <td>1200</td>\n",
       "      <td>19.0</td>\n",
       "      <td>17.0</td>\n",
       "      <td>...</td>\n",
       "      <td>0.0</td>\n",
       "      <td>0.0</td>\n",
       "      <td>0.0</td>\n",
       "      <td>0.0</td>\n",
       "      <td>0.0</td>\n",
       "      <td>0.0</td>\n",
       "      <td>0.0</td>\n",
       "      <td>0.0</td>\n",
       "      <td>0.0</td>\n",
       "      <td>0.0</td>\n",
       "    </tr>\n",
       "  </tbody>\n",
       "</table>\n",
       "<p>197421 rows × 112 columns</p>\n",
       "</div>"
      ],
      "text/plain": [
       "        market_id store_primary_category  order_protocol  total_items  \\\n",
       "0             1.0               american             1.0            4   \n",
       "1             2.0                mexican             2.0            1   \n",
       "2             3.0                 indian             1.0            1   \n",
       "3             3.0                 indian             1.0            6   \n",
       "4             3.0                 indian             1.0            3   \n",
       "...           ...                    ...             ...          ...   \n",
       "197416        6.0                  pizza             1.0            2   \n",
       "197417        6.0                  pizza             5.0            2   \n",
       "197418        6.0                  pizza             5.0           18   \n",
       "197419        2.0                mexican             5.0            3   \n",
       "197420        3.0               american             1.0            2   \n",
       "\n",
       "        subtotal  num_distinct_items  min_item_price  max_item_price  \\\n",
       "0           3441                   4             557            1239   \n",
       "1           1900                   1            1400            1400   \n",
       "2           1900                   1            1900            1900   \n",
       "3           6900                   5             600            1800   \n",
       "4           3900                   3            1100            1600   \n",
       "...          ...                 ...             ...             ...   \n",
       "197416      5400                   2            2400            3000   \n",
       "197417       900                   2             400             450   \n",
       "197418      7875                   9             275             475   \n",
       "197419      3470                   3             725            1795   \n",
       "197420      1750                   2             550            1200   \n",
       "\n",
       "        total_onshift_dashers  total_busy_dashers  ...  \\\n",
       "0                        33.0                14.0  ...   \n",
       "1                         1.0                 2.0  ...   \n",
       "2                         1.0                 0.0  ...   \n",
       "3                         1.0                 1.0  ...   \n",
       "4                         6.0                 6.0  ...   \n",
       "...                       ...                 ...  ...   \n",
       "197416                   45.0                42.0  ...   \n",
       "197417                   45.0                42.0  ...   \n",
       "197418                   45.0                42.0  ...   \n",
       "197419                   62.0                57.0  ...   \n",
       "197420                   19.0                17.0  ...   \n",
       "\n",
       "        store_primary_category_southern  store_primary_category_spanish  \\\n",
       "0                                   0.0                             0.0   \n",
       "1                                   0.0                             0.0   \n",
       "2                                   0.0                             0.0   \n",
       "3                                   0.0                             0.0   \n",
       "4                                   0.0                             0.0   \n",
       "...                                 ...                             ...   \n",
       "197416                              0.0                             0.0   \n",
       "197417                              0.0                             0.0   \n",
       "197418                              0.0                             0.0   \n",
       "197419                              0.0                             0.0   \n",
       "197420                              0.0                             0.0   \n",
       "\n",
       "        store_primary_category_steak  store_primary_category_sushi  \\\n",
       "0                                0.0                           0.0   \n",
       "1                                0.0                           0.0   \n",
       "2                                0.0                           0.0   \n",
       "3                                0.0                           0.0   \n",
       "4                                0.0                           0.0   \n",
       "...                              ...                           ...   \n",
       "197416                           0.0                           0.0   \n",
       "197417                           0.0                           0.0   \n",
       "197418                           0.0                           0.0   \n",
       "197419                           0.0                           0.0   \n",
       "197420                           0.0                           0.0   \n",
       "\n",
       "        store_primary_category_tapas  store_primary_category_thai  \\\n",
       "0                                0.0                          0.0   \n",
       "1                                0.0                          0.0   \n",
       "2                                0.0                          0.0   \n",
       "3                                0.0                          0.0   \n",
       "4                                0.0                          0.0   \n",
       "...                              ...                          ...   \n",
       "197416                           0.0                          0.0   \n",
       "197417                           0.0                          0.0   \n",
       "197418                           0.0                          0.0   \n",
       "197419                           0.0                          0.0   \n",
       "197420                           0.0                          0.0   \n",
       "\n",
       "        store_primary_category_turkish  store_primary_category_vegan  \\\n",
       "0                                  0.0                           0.0   \n",
       "1                                  0.0                           0.0   \n",
       "2                                  0.0                           0.0   \n",
       "3                                  0.0                           0.0   \n",
       "4                                  0.0                           0.0   \n",
       "...                                ...                           ...   \n",
       "197416                             0.0                           0.0   \n",
       "197417                             0.0                           0.0   \n",
       "197418                             0.0                           0.0   \n",
       "197419                             0.0                           0.0   \n",
       "197420                             0.0                           0.0   \n",
       "\n",
       "        store_primary_category_vegetarian  store_primary_category_vietnamese  \n",
       "0                                     0.0                                0.0  \n",
       "1                                     0.0                                0.0  \n",
       "2                                     0.0                                0.0  \n",
       "3                                     0.0                                0.0  \n",
       "4                                     0.0                                0.0  \n",
       "...                                   ...                                ...  \n",
       "197416                                0.0                                0.0  \n",
       "197417                                0.0                                0.0  \n",
       "197418                                0.0                                0.0  \n",
       "197419                                0.0                                0.0  \n",
       "197420                                0.0                                0.0  \n",
       "\n",
       "[197421 rows x 112 columns]"
      ]
     },
     "execution_count": 63,
     "metadata": {},
     "output_type": "execute_result"
    }
   ],
   "source": [
    "X"
   ]
  },
  {
   "cell_type": "code",
   "execution_count": 64,
   "metadata": {},
   "outputs": [],
   "source": [
    "X.drop(columns=categorical_cols, inplace=True)"
   ]
  },
  {
   "attachments": {},
   "cell_type": "markdown",
   "metadata": {},
   "source": [
    "# Splitting"
   ]
  },
  {
   "cell_type": "code",
   "execution_count": 65,
   "metadata": {},
   "outputs": [],
   "source": [
    "from sklearn.model_selection import train_test_split\n",
    "\n",
    "X_train, X_val, y_train, y_val = train_test_split(X, y, test_size=0.2, random_state=42)"
   ]
  },
  {
   "attachments": {},
   "cell_type": "markdown",
   "metadata": {},
   "source": [
    "# Model"
   ]
  },
  {
   "cell_type": "code",
   "execution_count": 66,
   "metadata": {},
   "outputs": [],
   "source": [
    "from xgboost import XGBRegressor"
   ]
  },
  {
   "cell_type": "code",
   "execution_count": 67,
   "metadata": {},
   "outputs": [
    {
     "name": "stdout",
     "output_type": "stream",
     "text": [
      "[0]\tvalidation_0-rmse:2288.72370\tvalidation_1-rmse:2305.91584\n",
      "[10]\tvalidation_0-rmse:973.60694\tvalidation_1-rmse:1019.73023\n",
      "[20]\tvalidation_0-rmse:937.24769\tvalidation_1-rmse:997.09652\n",
      "[30]\tvalidation_0-rmse:913.54554\tvalidation_1-rmse:989.80500\n",
      "[40]\tvalidation_0-rmse:903.78752\tvalidation_1-rmse:989.28777\n",
      "[50]\tvalidation_0-rmse:892.51299\tvalidation_1-rmse:987.92821\n",
      "[60]\tvalidation_0-rmse:884.40461\tvalidation_1-rmse:987.19111\n",
      "[70]\tvalidation_0-rmse:878.48548\tvalidation_1-rmse:986.26783\n",
      "[80]\tvalidation_0-rmse:871.92176\tvalidation_1-rmse:986.59104\n",
      "[90]\tvalidation_0-rmse:865.54955\tvalidation_1-rmse:986.43237\n",
      "[100]\tvalidation_0-rmse:858.83530\tvalidation_1-rmse:986.49689\n",
      "[110]\tvalidation_0-rmse:847.51467\tvalidation_1-rmse:986.11241\n",
      "[120]\tvalidation_0-rmse:842.61593\tvalidation_1-rmse:986.04438\n",
      "[130]\tvalidation_0-rmse:837.35243\tvalidation_1-rmse:985.90238\n",
      "[140]\tvalidation_0-rmse:831.32562\tvalidation_1-rmse:987.32916\n",
      "[150]\tvalidation_0-rmse:825.82229\tvalidation_1-rmse:987.11419\n",
      "[160]\tvalidation_0-rmse:819.24946\tvalidation_1-rmse:988.26019\n",
      "[170]\tvalidation_0-rmse:813.46435\tvalidation_1-rmse:988.24317\n",
      "[177]\tvalidation_0-rmse:810.02466\tvalidation_1-rmse:988.58247\n"
     ]
    },
    {
     "data": {
      "text/plain": [
       "XGBRegressor(base_score=0.5, booster='gbtree', callbacks=None,\n",
       "             colsample_bylevel=1, colsample_bynode=1, colsample_bytree=1,\n",
       "             early_stopping_rounds=None, enable_categorical=False,\n",
       "             eval_metric=None, gamma=0, gpu_id=-1, grow_policy='depthwise',\n",
       "             importance_type=None, interaction_constraints='',\n",
       "             learning_rate=0.300000012, max_bin=256, max_cat_to_onehot=4,\n",
       "             max_delta_step=0, max_depth=6, max_leaves=0, min_child_weight=1,\n",
       "             missing=nan, monotone_constraints='()', n_estimators=1000,\n",
       "             n_jobs=-1, num_parallel_tree=1, predictor='auto', random_state=42,\n",
       "             reg_alpha=0, reg_lambda=1, ...)"
      ]
     },
     "execution_count": 67,
     "metadata": {},
     "output_type": "execute_result"
    }
   ],
   "source": [
    "model = XGBRegressor(n_jobs=-1, n_estimators=1000, random_state=42)\n",
    "\n",
    "model.fit(X_train, y_train, eval_set=[(X_train, y_train), (X_val, y_val)], early_stopping_rounds=50, eval_metric='rmse', verbose=10)"
   ]
  },
  {
   "cell_type": "code",
   "execution_count": 68,
   "metadata": {},
   "outputs": [
    {
     "data": {
      "text/plain": [
       "128"
      ]
     },
     "execution_count": 68,
     "metadata": {},
     "output_type": "execute_result"
    }
   ],
   "source": [
    "model.best_ntree_limit"
   ]
  },
  {
   "cell_type": "code",
   "execution_count": 69,
   "metadata": {},
   "outputs": [
    {
     "data": {
      "text/plain": [
       "985.7758654185376"
      ]
     },
     "execution_count": 69,
     "metadata": {},
     "output_type": "execute_result"
    }
   ],
   "source": [
    "from sklearn.metrics import mean_squared_error \n",
    "\n",
    "mean_squared_error(y_val, model.predict(X_val), squared=False)"
   ]
  },
  {
   "attachments": {},
   "cell_type": "markdown",
   "metadata": {},
   "source": [
    "The model can be optimized with hyperparameters' tuning. "
   ]
  }
 ],
 "metadata": {
  "kernelspec": {
   "display_name": "Python 3",
   "language": "python",
   "name": "python3"
  },
  "language_info": {
   "codemirror_mode": {
    "name": "ipython",
    "version": 3
   },
   "file_extension": ".py",
   "mimetype": "text/x-python",
   "name": "python",
   "nbconvert_exporter": "python",
   "pygments_lexer": "ipython3",
   "version": "3.10.2"
  },
  "orig_nbformat": 4,
  "vscode": {
   "interpreter": {
    "hash": "d5ea41e4a4ff96221c207c65d84f76a2ad4a045e3a80bca3429d461f1852c7cd"
   }
  }
 },
 "nbformat": 4,
 "nbformat_minor": 2
}
